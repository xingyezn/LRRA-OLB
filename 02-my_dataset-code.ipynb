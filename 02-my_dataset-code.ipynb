{
 "cells": [
  {
   "cell_type": "markdown",
   "metadata": {},
   "source": [
    "# Import Library"
   ]
  },
  {
   "cell_type": "code",
   "execution_count": 1,
   "metadata": {
    "ExecuteTime": {
     "end_time": "2023-06-20T02:42:17.501072Z",
     "start_time": "2023-06-20T02:42:16.334018Z"
    }
   },
   "outputs": [],
   "source": [
    "from IPython.display import display\n",
    "import pandas as pd\n",
    "from tqdm import tqdm\n",
    "import numpy as np\n",
    "from sklearn import metrics\n",
    "from sklearn.cluster import KMeans,AgglomerativeClustering\n",
    "from sklearn.decomposition import PCA\n",
    "import matplotlib.pyplot as plt\n",
    "import string\n",
    "import math\n",
    "import warnings\n",
    "warnings.filterwarnings(\"ignore\")"
   ]
  },
  {
   "cell_type": "markdown",
   "metadata": {
    "ExecuteTime": {
     "end_time": "2023-06-15T19:28:41.029271Z",
     "start_time": "2023-06-15T19:28:41.025490Z"
    }
   },
   "source": [
    "## Set parameters"
   ]
  },
  {
   "cell_type": "code",
   "execution_count": 2,
   "metadata": {
    "ExecuteTime": {
     "end_time": "2023-06-20T02:42:17.506564Z",
     "start_time": "2023-06-20T02:42:17.503205Z"
    },
    "code_folding": []
   },
   "outputs": [],
   "source": [
    "N_LIST =  [5,15,25,35,45,55,65,75,85,95]\n",
    "M = 40\n",
    "K = 4\n",
    "LBP_LEN = 1\n",
    "USE_TF_IDF = True\n",
    "USE_MODULE_INFO = False\n",
    "USE_CLUSTER = True"
   ]
  },
  {
   "cell_type": "markdown",
   "metadata": {},
   "source": [
    "# Load Dataset"
   ]
  },
  {
   "cell_type": "code",
   "execution_count": 3,
   "metadata": {
    "ExecuteTime": {
     "end_time": "2023-06-20T02:42:23.453621Z",
     "start_time": "2023-06-20T02:42:17.507741Z"
    }
   },
   "outputs": [
    {
     "data": {
      "text/html": [
       "<div>\n",
       "<style scoped>\n",
       "    .dataframe tbody tr th:only-of-type {\n",
       "        vertical-align: middle;\n",
       "    }\n",
       "\n",
       "    .dataframe tbody tr th {\n",
       "        vertical-align: top;\n",
       "    }\n",
       "\n",
       "    .dataframe thead th {\n",
       "        text-align: right;\n",
       "    }\n",
       "</style>\n",
       "<table border=\"1\" class=\"dataframe\">\n",
       "  <thead>\n",
       "    <tr style=\"text-align: right;\">\n",
       "      <th></th>\n",
       "      <th>id_student</th>\n",
       "      <th>course_id</th>\n",
       "      <th>activity_type</th>\n",
       "      <th>id_site</th>\n",
       "      <th>ts</th>\n",
       "    </tr>\n",
       "  </thead>\n",
       "  <tbody>\n",
       "    <tr>\n",
       "      <th>0</th>\n",
       "      <td>3151</td>\n",
       "      <td>27</td>\n",
       "      <td>NO_ACTION</td>\n",
       "      <td>-1</td>\n",
       "      <td>2021-03-01 00:02:38</td>\n",
       "    </tr>\n",
       "    <tr>\n",
       "      <th>1</th>\n",
       "      <td>3151</td>\n",
       "      <td>27</td>\n",
       "      <td>NO_ACTION</td>\n",
       "      <td>-1</td>\n",
       "      <td>2021-03-01 00:07:39</td>\n",
       "    </tr>\n",
       "    <tr>\n",
       "      <th>2</th>\n",
       "      <td>3151</td>\n",
       "      <td>27</td>\n",
       "      <td>NO_ACTION</td>\n",
       "      <td>-1</td>\n",
       "      <td>2021-03-01 00:12:40</td>\n",
       "    </tr>\n",
       "    <tr>\n",
       "      <th>3</th>\n",
       "      <td>3151</td>\n",
       "      <td>27</td>\n",
       "      <td>NO_ACTION</td>\n",
       "      <td>-1</td>\n",
       "      <td>2021-03-01 00:17:41</td>\n",
       "    </tr>\n",
       "    <tr>\n",
       "      <th>4</th>\n",
       "      <td>8727</td>\n",
       "      <td>26</td>\n",
       "      <td>LOGIN</td>\n",
       "      <td>-1</td>\n",
       "      <td>2021-03-01 00:38:52</td>\n",
       "    </tr>\n",
       "  </tbody>\n",
       "</table>\n",
       "</div>"
      ],
      "text/plain": [
       "   id_student  course_id activity_type  id_site                   ts\n",
       "0        3151         27     NO_ACTION       -1  2021-03-01 00:02:38\n",
       "1        3151         27     NO_ACTION       -1  2021-03-01 00:07:39\n",
       "2        3151         27     NO_ACTION       -1  2021-03-01 00:12:40\n",
       "3        3151         27     NO_ACTION       -1  2021-03-01 00:17:41\n",
       "4        8727         26         LOGIN       -1  2021-03-01 00:38:52"
      ]
     },
     "execution_count": 3,
     "metadata": {},
     "output_type": "execute_result"
    }
   ],
   "source": [
    "studentVle = pd.read_csv('data/our_dataset.csv')\n",
    "studentVle.head()"
   ]
  },
  {
   "cell_type": "markdown",
   "metadata": {},
   "source": [
    "## Generate Basic Data"
   ]
  },
  {
   "cell_type": "code",
   "execution_count": 4,
   "metadata": {
    "ExecuteTime": {
     "end_time": "2023-06-20T02:42:23.459726Z",
     "start_time": "2023-06-20T02:42:23.455120Z"
    }
   },
   "outputs": [],
   "source": [
    "def generate_uppercase_sequence(length):\n",
    "    uppercase_letters = string.ascii_uppercase\n",
    "    sequence = []\n",
    "    for i in range(length):\n",
    "        sequence.append(uppercase_letters[i % 26])\n",
    "    return sequence\n",
    "\n",
    "def get_seq(one_seq):\n",
    "    one_real_seq = []\n",
    "    for one in one_seq:\n",
    "        one_real_seq.append(event_code_A[one])\n",
    "    return one_real_seq"
   ]
  },
  {
   "cell_type": "code",
   "execution_count": 5,
   "metadata": {
    "ExecuteTime": {
     "end_time": "2023-06-20T02:42:28.227266Z",
     "start_time": "2023-06-20T02:42:23.461882Z"
    }
   },
   "outputs": [
    {
     "data": {
      "text/html": [
       "<div>\n",
       "<style scoped>\n",
       "    .dataframe tbody tr th:only-of-type {\n",
       "        vertical-align: middle;\n",
       "    }\n",
       "\n",
       "    .dataframe tbody tr th {\n",
       "        vertical-align: top;\n",
       "    }\n",
       "\n",
       "    .dataframe thead th {\n",
       "        text-align: right;\n",
       "    }\n",
       "</style>\n",
       "<table border=\"1\" class=\"dataframe\">\n",
       "  <thead>\n",
       "    <tr style=\"text-align: right;\">\n",
       "      <th></th>\n",
       "      <th>id_student</th>\n",
       "      <th>course_id</th>\n",
       "      <th>activity_type</th>\n",
       "      <th>id_site</th>\n",
       "      <th>ts</th>\n",
       "      <th>event_code</th>\n",
       "    </tr>\n",
       "  </thead>\n",
       "  <tbody>\n",
       "    <tr>\n",
       "      <th>3151</th>\n",
       "      <td>3151</td>\n",
       "      <td>27</td>\n",
       "      <td>NO_ACTION</td>\n",
       "      <td>-1</td>\n",
       "      <td>2021-03-01 00:02:38</td>\n",
       "      <td>P</td>\n",
       "    </tr>\n",
       "    <tr>\n",
       "      <th>3151</th>\n",
       "      <td>3151</td>\n",
       "      <td>27</td>\n",
       "      <td>NO_ACTION</td>\n",
       "      <td>-1</td>\n",
       "      <td>2021-03-01 00:07:39</td>\n",
       "      <td>P</td>\n",
       "    </tr>\n",
       "    <tr>\n",
       "      <th>3151</th>\n",
       "      <td>3151</td>\n",
       "      <td>27</td>\n",
       "      <td>NO_ACTION</td>\n",
       "      <td>-1</td>\n",
       "      <td>2021-03-01 00:12:40</td>\n",
       "      <td>P</td>\n",
       "    </tr>\n",
       "    <tr>\n",
       "      <th>3151</th>\n",
       "      <td>3151</td>\n",
       "      <td>27</td>\n",
       "      <td>NO_ACTION</td>\n",
       "      <td>-1</td>\n",
       "      <td>2021-03-01 00:17:41</td>\n",
       "      <td>P</td>\n",
       "    </tr>\n",
       "    <tr>\n",
       "      <th>8727</th>\n",
       "      <td>8727</td>\n",
       "      <td>26</td>\n",
       "      <td>LOGIN</td>\n",
       "      <td>-1</td>\n",
       "      <td>2021-03-01 00:38:52</td>\n",
       "      <td>K</td>\n",
       "    </tr>\n",
       "  </tbody>\n",
       "</table>\n",
       "</div>"
      ],
      "text/plain": [
       "      id_student  course_id activity_type  id_site                   ts  \\\n",
       "3151        3151         27     NO_ACTION       -1  2021-03-01 00:02:38   \n",
       "3151        3151         27     NO_ACTION       -1  2021-03-01 00:07:39   \n",
       "3151        3151         27     NO_ACTION       -1  2021-03-01 00:12:40   \n",
       "3151        3151         27     NO_ACTION       -1  2021-03-01 00:17:41   \n",
       "8727        8727         26         LOGIN       -1  2021-03-01 00:38:52   \n",
       "\n",
       "     event_code  \n",
       "3151          P  \n",
       "3151          P  \n",
       "3151          P  \n",
       "3151          P  \n",
       "8727          K  "
      ]
     },
     "execution_count": 5,
     "metadata": {},
     "output_type": "execute_result"
    }
   ],
   "source": [
    "all_act_type = list(studentVle['activity_type'].value_counts().index)\n",
    "event_code = dict(zip(all_act_type,generate_uppercase_sequence(len(all_act_type))))\n",
    "event_code_A = dict(zip(generate_uppercase_sequence(len(all_act_type)),all_act_type))\n",
    "studentVle['event_code'] = studentVle['activity_type'].map(event_code)\n",
    "studentVle.index = list(studentVle['id_student'])\n",
    "studentVle.head()"
   ]
  },
  {
   "cell_type": "markdown",
   "metadata": {},
   "source": [
    "# Generate learner feature matrix"
   ]
  },
  {
   "cell_type": "markdown",
   "metadata": {},
   "source": [
    "## Obtain student course selection information"
   ]
  },
  {
   "cell_type": "code",
   "execution_count": 6,
   "metadata": {
    "ExecuteTime": {
     "end_time": "2023-06-20T02:42:29.441546Z",
     "start_time": "2023-06-20T02:42:28.228588Z"
    }
   },
   "outputs": [
    {
     "data": {
      "text/html": [
       "<div>\n",
       "<style scoped>\n",
       "    .dataframe tbody tr th:only-of-type {\n",
       "        vertical-align: middle;\n",
       "    }\n",
       "\n",
       "    .dataframe tbody tr th {\n",
       "        vertical-align: top;\n",
       "    }\n",
       "\n",
       "    .dataframe thead th {\n",
       "        text-align: right;\n",
       "    }\n",
       "</style>\n",
       "<table border=\"1\" class=\"dataframe\">\n",
       "  <thead>\n",
       "    <tr style=\"text-align: right;\">\n",
       "      <th></th>\n",
       "      <th>course_id_26</th>\n",
       "      <th>course_id_27</th>\n",
       "      <th>course_id_72</th>\n",
       "      <th>course_id_73</th>\n",
       "    </tr>\n",
       "  </thead>\n",
       "  <tbody>\n",
       "    <tr>\n",
       "      <th>8</th>\n",
       "      <td>1</td>\n",
       "      <td>1</td>\n",
       "      <td>1</td>\n",
       "      <td>1</td>\n",
       "    </tr>\n",
       "    <tr>\n",
       "      <th>13</th>\n",
       "      <td>1</td>\n",
       "      <td>0</td>\n",
       "      <td>0</td>\n",
       "      <td>1</td>\n",
       "    </tr>\n",
       "    <tr>\n",
       "      <th>21</th>\n",
       "      <td>1</td>\n",
       "      <td>0</td>\n",
       "      <td>1</td>\n",
       "      <td>0</td>\n",
       "    </tr>\n",
       "    <tr>\n",
       "      <th>23</th>\n",
       "      <td>1</td>\n",
       "      <td>0</td>\n",
       "      <td>1</td>\n",
       "      <td>0</td>\n",
       "    </tr>\n",
       "    <tr>\n",
       "      <th>33</th>\n",
       "      <td>1</td>\n",
       "      <td>1</td>\n",
       "      <td>1</td>\n",
       "      <td>1</td>\n",
       "    </tr>\n",
       "  </tbody>\n",
       "</table>\n",
       "</div>"
      ],
      "text/plain": [
       "    course_id_26  course_id_27  course_id_72  course_id_73\n",
       "8              1             1             1             1\n",
       "13             1             0             0             1\n",
       "21             1             0             1             0\n",
       "23             1             0             1             0\n",
       "33             1             1             1             1"
      ]
     },
     "execution_count": 6,
     "metadata": {},
     "output_type": "execute_result"
    }
   ],
   "source": [
    "student_module = studentVle[['course_id','id_student']].drop_duplicates()\n",
    "studentInfo_one_hot = pd.get_dummies(student_module,columns=['course_id'])\n",
    "studentInfo_one_hot = studentInfo_one_hot.groupby('id_student').sum()\n",
    "studentInfo_one_hot.index = list(studentInfo_one_hot.index)\n",
    "studentInfo_one_hot.head()"
   ]
  },
  {
   "cell_type": "markdown",
   "metadata": {},
   "source": [
    "## Extracting learner behavior sequences"
   ]
  },
  {
   "cell_type": "code",
   "execution_count": 8,
   "metadata": {
    "ExecuteTime": {
     "end_time": "2023-06-20T02:44:57.008116Z",
     "start_time": "2023-06-20T02:43:31.056170Z"
    }
   },
   "outputs": [
    {
     "name": "stderr",
     "output_type": "stream",
     "text": [
      "100%|██████████| 4595/4595 [01:25<00:00, 53.54it/s]\n"
     ]
    }
   ],
   "source": [
    "all_seq_data = {}\n",
    "stu_resource = {}\n",
    "need_stu_have = list(studentVle['id_student'].value_counts().index)\n",
    "for one_stu in tqdm(need_stu_have):\n",
    "    one_stu_data = studentVle.loc[one_stu].copy()\n",
    "    one_num = dict(one_stu_data['activity_type'].value_counts())\n",
    "    one_stu_play = one_stu_data[one_stu_data['activity_type']=='VIDEO_PLAY'].copy()\n",
    "    one_stu_res = dict(one_stu_play['id_site'].value_counts())\n",
    "    stu_resource[one_stu] = one_stu_res\n",
    "    all_seq_data[one_stu] = list(one_stu_data['event_code'])\n",
    "# pd.to_pickle(stu_resource,'data/process_data/our_stu_resource.plk')\n",
    "# pd.to_pickle(all_seq_data,'data/process_data/our_all_seq_data.plk')"
   ]
  },
  {
   "cell_type": "code",
   "execution_count": 9,
   "metadata": {
    "ExecuteTime": {
     "end_time": "2023-06-20T02:44:57.014407Z",
     "start_time": "2023-06-20T02:44:57.011176Z"
    }
   },
   "outputs": [],
   "source": [
    "# stu_resource = pd.read_pickle('data/process_data/our_stu_resource.plk')\n",
    "# all_seq_data = pd.read_pickle('data/process_data/our_all_seq_data.plk')\n",
    "# print(len(list(all_seq_data.keys())))"
   ]
  },
  {
   "cell_type": "markdown",
   "metadata": {},
   "source": [
    "## Extracting Learning Behavior Patterns"
   ]
  },
  {
   "cell_type": "code",
   "execution_count": 10,
   "metadata": {
    "ExecuteTime": {
     "end_time": "2023-06-20T02:44:57.021088Z",
     "start_time": "2023-06-20T02:44:57.015611Z"
    }
   },
   "outputs": [],
   "source": [
    "def sort_dict(one_dict,reverse=True):\n",
    "    return dict(sorted(one_dict.items(), key=lambda x: x[1],reverse=True))\n",
    "\n",
    "def get_dup_seq(one_seq,k):\n",
    "    one_dup_seq = {}\n",
    "    for i in range(len(one_seq) - k + 1):\n",
    "        subseq = one_seq[i:i+k]\n",
    "        seq_click = 1\n",
    "        if subseq in one_dup_seq:\n",
    "            one_dup_seq[subseq] += seq_click\n",
    "        else:\n",
    "            one_dup_seq[subseq] = seq_click\n",
    "    one_dup_seq = sort_dict(one_dup_seq)\n",
    "    return one_dup_seq"
   ]
  },
  {
   "cell_type": "code",
   "execution_count": 11,
   "metadata": {
    "ExecuteTime": {
     "end_time": "2023-06-20T02:44:59.286048Z",
     "start_time": "2023-06-20T02:44:57.022935Z"
    }
   },
   "outputs": [
    {
     "name": "stderr",
     "output_type": "stream",
     "text": [
      "100%|██████████| 4595/4595 [00:02<00:00, 2037.05it/s]\n"
     ]
    }
   ],
   "source": [
    "all_stu_seq = {}\n",
    "all_seq_num = {}\n",
    "for one_stu,one_seq in tqdm(all_seq_data.items()):\n",
    "    all_stu_seq[one_stu] = {}\n",
    "    one_dup_seq = get_dup_seq(''.join(one_seq),LBP_LEN)\n",
    "    all_stu_seq[one_stu] = one_dup_seq\n",
    "    for one_sub_key in one_dup_seq.keys():\n",
    "        if one_sub_key in all_seq_num:\n",
    "            all_seq_num[one_sub_key] += 1\n",
    "        else:\n",
    "            all_seq_num[one_sub_key] = 1\n",
    "if LBP_LEN >2:\n",
    "    all_seq_num = {k:v for k, v in all_seq_num.items() if v>=100}"
   ]
  },
  {
   "cell_type": "markdown",
   "metadata": {},
   "source": [
    "## Calculate TF-IDF value"
   ]
  },
  {
   "cell_type": "code",
   "execution_count": 12,
   "metadata": {
    "ExecuteTime": {
     "end_time": "2023-06-20T02:44:59.329155Z",
     "start_time": "2023-06-20T02:44:59.287375Z"
    }
   },
   "outputs": [
    {
     "name": "stderr",
     "output_type": "stream",
     "text": [
      "100%|██████████| 4595/4595 [00:00<00:00, 136221.05it/s]\n"
     ]
    }
   ],
   "source": [
    "all_stu_num = len(all_seq_data.keys())\n",
    "seq_IDF = [math.log(all_stu_num/(one+1),10) for one in list(all_seq_num.values())]\n",
    "all_seq_IDF = dict(zip(list(all_seq_num.keys()),seq_IDF))\n",
    "stu_TF_IDF = {}\n",
    "for key,sub_seq in tqdm(all_stu_seq.items()):\n",
    "    one_stu_TF_IDF = {}\n",
    "    seq_all_num = sum(list(sub_seq.values()))\n",
    "    for sub_k,sub_v in sub_seq.items():\n",
    "        if sub_k not in all_seq_IDF:\n",
    "            continue\n",
    "        one_TF = sub_v/seq_all_num\n",
    "        one_stu_TF_IDF[sub_k] = all_seq_IDF[sub_k]*one_TF\n",
    "    stu_TF_IDF[key] = one_stu_TF_IDF"
   ]
  },
  {
   "cell_type": "code",
   "execution_count": 13,
   "metadata": {
    "ExecuteTime": {
     "end_time": "2023-06-20T02:44:59.377543Z",
     "start_time": "2023-06-20T02:44:59.331321Z"
    }
   },
   "outputs": [
    {
     "name": "stderr",
     "output_type": "stream",
     "text": [
      "100%|██████████| 4595/4595 [00:00<00:00, 753698.60it/s]\n"
     ]
    },
    {
     "data": {
      "text/html": [
       "<div>\n",
       "<style scoped>\n",
       "    .dataframe tbody tr th:only-of-type {\n",
       "        vertical-align: middle;\n",
       "    }\n",
       "\n",
       "    .dataframe tbody tr th {\n",
       "        vertical-align: top;\n",
       "    }\n",
       "\n",
       "    .dataframe thead th {\n",
       "        text-align: right;\n",
       "    }\n",
       "</style>\n",
       "<table border=\"1\" class=\"dataframe\">\n",
       "  <thead>\n",
       "    <tr style=\"text-align: right;\">\n",
       "      <th></th>\n",
       "      <th>A</th>\n",
       "      <th>F</th>\n",
       "      <th>D</th>\n",
       "      <th>B</th>\n",
       "      <th>C</th>\n",
       "      <th>G</th>\n",
       "      <th>L</th>\n",
       "      <th>N</th>\n",
       "      <th>K</th>\n",
       "      <th>E</th>\n",
       "      <th>...</th>\n",
       "      <th>J</th>\n",
       "      <th>M</th>\n",
       "      <th>H</th>\n",
       "      <th>T</th>\n",
       "      <th>U</th>\n",
       "      <th>R</th>\n",
       "      <th>Q</th>\n",
       "      <th>S</th>\n",
       "      <th>O</th>\n",
       "      <th>P</th>\n",
       "    </tr>\n",
       "  </thead>\n",
       "  <tbody>\n",
       "    <tr>\n",
       "      <th>21730</th>\n",
       "      <td>-0.000016</td>\n",
       "      <td>0.001484</td>\n",
       "      <td>-0.000013</td>\n",
       "      <td>-0.000011</td>\n",
       "      <td>-0.000011</td>\n",
       "      <td>0.0</td>\n",
       "      <td>0.002764</td>\n",
       "      <td>0.000442</td>\n",
       "      <td>-3.187370e-06</td>\n",
       "      <td>0.0</td>\n",
       "      <td>...</td>\n",
       "      <td>0.0</td>\n",
       "      <td>0.000023</td>\n",
       "      <td>0.000007</td>\n",
       "      <td>0.000324</td>\n",
       "      <td>0.000129</td>\n",
       "      <td>0.000119</td>\n",
       "      <td>0.000071</td>\n",
       "      <td>0.000149</td>\n",
       "      <td>0.000029</td>\n",
       "      <td>0.000076</td>\n",
       "    </tr>\n",
       "    <tr>\n",
       "      <th>11419</th>\n",
       "      <td>-0.000021</td>\n",
       "      <td>0.000398</td>\n",
       "      <td>-0.000008</td>\n",
       "      <td>-0.000021</td>\n",
       "      <td>-0.000021</td>\n",
       "      <td>0.0</td>\n",
       "      <td>0.000156</td>\n",
       "      <td>0.000200</td>\n",
       "      <td>-7.494527e-07</td>\n",
       "      <td>0.0</td>\n",
       "      <td>...</td>\n",
       "      <td>0.0</td>\n",
       "      <td>0.000072</td>\n",
       "      <td>0.000039</td>\n",
       "      <td>0.000079</td>\n",
       "      <td>0.000114</td>\n",
       "      <td>0.000810</td>\n",
       "      <td>0.000653</td>\n",
       "      <td>0.001303</td>\n",
       "      <td>0.000181</td>\n",
       "      <td>0.000322</td>\n",
       "    </tr>\n",
       "    <tr>\n",
       "      <th>1262</th>\n",
       "      <td>-0.000002</td>\n",
       "      <td>0.000117</td>\n",
       "      <td>-0.000023</td>\n",
       "      <td>-0.000002</td>\n",
       "      <td>-0.000002</td>\n",
       "      <td>0.0</td>\n",
       "      <td>0.015768</td>\n",
       "      <td>0.000003</td>\n",
       "      <td>-1.845090e-07</td>\n",
       "      <td>0.0</td>\n",
       "      <td>...</td>\n",
       "      <td>0.0</td>\n",
       "      <td>0.000005</td>\n",
       "      <td>0.000010</td>\n",
       "      <td>0.000981</td>\n",
       "      <td>0.000000</td>\n",
       "      <td>0.000000</td>\n",
       "      <td>0.000085</td>\n",
       "      <td>0.002930</td>\n",
       "      <td>0.000077</td>\n",
       "      <td>0.008968</td>\n",
       "    </tr>\n",
       "    <tr>\n",
       "      <th>15885</th>\n",
       "      <td>-0.000023</td>\n",
       "      <td>0.000134</td>\n",
       "      <td>-0.000008</td>\n",
       "      <td>-0.000023</td>\n",
       "      <td>-0.000023</td>\n",
       "      <td>0.0</td>\n",
       "      <td>0.000143</td>\n",
       "      <td>0.000163</td>\n",
       "      <td>-2.964418e-07</td>\n",
       "      <td>0.0</td>\n",
       "      <td>...</td>\n",
       "      <td>0.0</td>\n",
       "      <td>0.000076</td>\n",
       "      <td>0.000034</td>\n",
       "      <td>0.000000</td>\n",
       "      <td>0.000021</td>\n",
       "      <td>0.000549</td>\n",
       "      <td>0.000690</td>\n",
       "      <td>0.000050</td>\n",
       "      <td>0.000023</td>\n",
       "      <td>0.000201</td>\n",
       "    </tr>\n",
       "    <tr>\n",
       "      <th>20154</th>\n",
       "      <td>-0.000023</td>\n",
       "      <td>0.000334</td>\n",
       "      <td>-0.000008</td>\n",
       "      <td>-0.000023</td>\n",
       "      <td>-0.000022</td>\n",
       "      <td>0.0</td>\n",
       "      <td>0.000241</td>\n",
       "      <td>0.000116</td>\n",
       "      <td>-6.023843e-07</td>\n",
       "      <td>0.0</td>\n",
       "      <td>...</td>\n",
       "      <td>0.0</td>\n",
       "      <td>0.000063</td>\n",
       "      <td>0.000031</td>\n",
       "      <td>0.000172</td>\n",
       "      <td>0.000076</td>\n",
       "      <td>0.000291</td>\n",
       "      <td>0.000818</td>\n",
       "      <td>0.000000</td>\n",
       "      <td>0.000049</td>\n",
       "      <td>0.000035</td>\n",
       "    </tr>\n",
       "  </tbody>\n",
       "</table>\n",
       "<p>5 rows × 21 columns</p>\n",
       "</div>"
      ],
      "text/plain": [
       "              A         F         D         B         C    G         L  \\\n",
       "21730 -0.000016  0.001484 -0.000013 -0.000011 -0.000011  0.0  0.002764   \n",
       "11419 -0.000021  0.000398 -0.000008 -0.000021 -0.000021  0.0  0.000156   \n",
       "1262  -0.000002  0.000117 -0.000023 -0.000002 -0.000002  0.0  0.015768   \n",
       "15885 -0.000023  0.000134 -0.000008 -0.000023 -0.000023  0.0  0.000143   \n",
       "20154 -0.000023  0.000334 -0.000008 -0.000023 -0.000022  0.0  0.000241   \n",
       "\n",
       "              N             K    E  ...    J         M         H         T  \\\n",
       "21730  0.000442 -3.187370e-06  0.0  ...  0.0  0.000023  0.000007  0.000324   \n",
       "11419  0.000200 -7.494527e-07  0.0  ...  0.0  0.000072  0.000039  0.000079   \n",
       "1262   0.000003 -1.845090e-07  0.0  ...  0.0  0.000005  0.000010  0.000981   \n",
       "15885  0.000163 -2.964418e-07  0.0  ...  0.0  0.000076  0.000034  0.000000   \n",
       "20154  0.000116 -6.023843e-07  0.0  ...  0.0  0.000063  0.000031  0.000172   \n",
       "\n",
       "              U         R         Q         S         O         P  \n",
       "21730  0.000129  0.000119  0.000071  0.000149  0.000029  0.000076  \n",
       "11419  0.000114  0.000810  0.000653  0.001303  0.000181  0.000322  \n",
       "1262   0.000000  0.000000  0.000085  0.002930  0.000077  0.008968  \n",
       "15885  0.000021  0.000549  0.000690  0.000050  0.000023  0.000201  \n",
       "20154  0.000076  0.000291  0.000818  0.000000  0.000049  0.000035  \n",
       "\n",
       "[5 rows x 21 columns]"
      ]
     },
     "execution_count": 13,
     "metadata": {},
     "output_type": "execute_result"
    }
   ],
   "source": [
    "need_feature = dict(zip(list(all_seq_num.keys()),[0]*len(all_seq_num)))\n",
    "all_feature_values = []\n",
    "for one_stu,one_TF_IDF in tqdm(stu_TF_IDF.items()):\n",
    "    one_need_feature = need_feature.copy()\n",
    "    if USE_TF_IDF:\n",
    "        one_need_feature.update(one_TF_IDF)\n",
    "    else:\n",
    "        one_need_feature.update(all_stu_seq[one_stu])\n",
    "    all_feature_values.append(one_need_feature)\n",
    "stu_id_index = list(stu_TF_IDF.keys())\n",
    "my_data = pd.DataFrame(all_feature_values,index=stu_id_index)\n",
    "my_data.head()"
   ]
  },
  {
   "cell_type": "markdown",
   "metadata": {},
   "source": [
    "## Load student course selection information"
   ]
  },
  {
   "cell_type": "code",
   "execution_count": 14,
   "metadata": {
    "ExecuteTime": {
     "end_time": "2023-06-20T02:44:59.381874Z",
     "start_time": "2023-06-20T02:44:59.379164Z"
    }
   },
   "outputs": [],
   "source": [
    "if USE_MODULE_INFO:\n",
    "    my_data = pd.concat([my_data,studentInfo_one_hot.loc[stu_id_index]],join='inner',axis=1)\n",
    "    my_data.head()"
   ]
  },
  {
   "cell_type": "markdown",
   "metadata": {},
   "source": [
    "# Learner clustering"
   ]
  },
  {
   "cell_type": "code",
   "execution_count": 15,
   "metadata": {
    "ExecuteTime": {
     "end_time": "2023-06-20T02:45:10.044392Z",
     "start_time": "2023-06-20T02:44:59.383341Z"
    }
   },
   "outputs": [],
   "source": [
    "from sklearn.decomposition import PCA\n",
    "from sklearn.preprocessing import MinMaxScaler\n",
    "from sklearn import manifold\n",
    "if USE_CLUSTER:\n",
    "    tsne = manifold.TSNE(n_components=2,learning_rate='auto', init='pca', random_state=42).fit_transform(my_data)\n",
    "    KM_cluster = KMeans(init='k-means++', n_clusters=K,random_state=2023)\n",
    "    KM_cluster.fit(tsne)\n",
    "    all_labels = list(KM_cluster.labels_)\n",
    "    stu_2_cluster = dict(zip(stu_id_index,all_labels))"
   ]
  },
  {
   "cell_type": "markdown",
   "metadata": {
    "ExecuteTime": {
     "end_time": "2023-06-07T19:56:06.336988Z",
     "start_time": "2023-06-07T19:56:06.332669Z"
    }
   },
   "source": [
    "# Recommendation of learning resources"
   ]
  },
  {
   "cell_type": "markdown",
   "metadata": {},
   "source": [
    "## Calculate learner similarity"
   ]
  },
  {
   "cell_type": "code",
   "execution_count": 16,
   "metadata": {
    "ExecuteTime": {
     "end_time": "2023-06-20T02:45:10.473249Z",
     "start_time": "2023-06-20T02:45:10.047436Z"
    }
   },
   "outputs": [
    {
     "name": "stderr",
     "output_type": "stream",
     "text": [
      "100%|██████████| 4/4 [00:00<00:00, 10.12it/s]\n"
     ]
    },
    {
     "data": {
      "text/html": [
       "<div>\n",
       "<style scoped>\n",
       "    .dataframe tbody tr th:only-of-type {\n",
       "        vertical-align: middle;\n",
       "    }\n",
       "\n",
       "    .dataframe tbody tr th {\n",
       "        vertical-align: top;\n",
       "    }\n",
       "\n",
       "    .dataframe thead th {\n",
       "        text-align: right;\n",
       "    }\n",
       "</style>\n",
       "<table border=\"1\" class=\"dataframe\">\n",
       "  <thead>\n",
       "    <tr style=\"text-align: right;\">\n",
       "      <th></th>\n",
       "      <th>11419</th>\n",
       "      <th>8332</th>\n",
       "      <th>23729</th>\n",
       "      <th>5551</th>\n",
       "      <th>8820</th>\n",
       "      <th>8727</th>\n",
       "      <th>11407</th>\n",
       "      <th>1795</th>\n",
       "      <th>9307</th>\n",
       "      <th>18655</th>\n",
       "      <th>...</th>\n",
       "      <th>17510</th>\n",
       "      <th>8461</th>\n",
       "      <th>4985</th>\n",
       "      <th>1588</th>\n",
       "      <th>6011</th>\n",
       "      <th>10047</th>\n",
       "      <th>18310</th>\n",
       "      <th>4479</th>\n",
       "      <th>12496</th>\n",
       "      <th>24139</th>\n",
       "    </tr>\n",
       "  </thead>\n",
       "  <tbody>\n",
       "    <tr>\n",
       "      <th>11419</th>\n",
       "      <td>1.000000</td>\n",
       "      <td>0.812388</td>\n",
       "      <td>0.247359</td>\n",
       "      <td>0.799579</td>\n",
       "      <td>0.422005</td>\n",
       "      <td>0.837168</td>\n",
       "      <td>0.700872</td>\n",
       "      <td>0.789362</td>\n",
       "      <td>0.762167</td>\n",
       "      <td>0.652128</td>\n",
       "      <td>...</td>\n",
       "      <td>0.864221</td>\n",
       "      <td>0.756243</td>\n",
       "      <td>0.709364</td>\n",
       "      <td>0.714836</td>\n",
       "      <td>0.697450</td>\n",
       "      <td>0.585324</td>\n",
       "      <td>0.113894</td>\n",
       "      <td>0.742443</td>\n",
       "      <td>0.893199</td>\n",
       "      <td>0.111598</td>\n",
       "    </tr>\n",
       "    <tr>\n",
       "      <th>8332</th>\n",
       "      <td>0.812388</td>\n",
       "      <td>1.000000</td>\n",
       "      <td>0.657413</td>\n",
       "      <td>0.728397</td>\n",
       "      <td>0.601057</td>\n",
       "      <td>0.797986</td>\n",
       "      <td>0.835132</td>\n",
       "      <td>0.727328</td>\n",
       "      <td>0.817616</td>\n",
       "      <td>0.787966</td>\n",
       "      <td>...</td>\n",
       "      <td>0.795060</td>\n",
       "      <td>0.655665</td>\n",
       "      <td>0.742491</td>\n",
       "      <td>0.701866</td>\n",
       "      <td>0.696688</td>\n",
       "      <td>0.738599</td>\n",
       "      <td>0.403357</td>\n",
       "      <td>0.755099</td>\n",
       "      <td>0.755455</td>\n",
       "      <td>0.404369</td>\n",
       "    </tr>\n",
       "    <tr>\n",
       "      <th>23729</th>\n",
       "      <td>0.247359</td>\n",
       "      <td>0.657413</td>\n",
       "      <td>1.000000</td>\n",
       "      <td>0.319334</td>\n",
       "      <td>0.582154</td>\n",
       "      <td>0.462283</td>\n",
       "      <td>0.705446</td>\n",
       "      <td>0.517995</td>\n",
       "      <td>0.438191</td>\n",
       "      <td>0.396816</td>\n",
       "      <td>...</td>\n",
       "      <td>0.426975</td>\n",
       "      <td>0.283017</td>\n",
       "      <td>0.546301</td>\n",
       "      <td>0.251502</td>\n",
       "      <td>0.602669</td>\n",
       "      <td>0.712597</td>\n",
       "      <td>0.769342</td>\n",
       "      <td>0.549703</td>\n",
       "      <td>0.247177</td>\n",
       "      <td>0.825336</td>\n",
       "    </tr>\n",
       "    <tr>\n",
       "      <th>5551</th>\n",
       "      <td>0.799579</td>\n",
       "      <td>0.728397</td>\n",
       "      <td>0.319334</td>\n",
       "      <td>1.000000</td>\n",
       "      <td>0.270100</td>\n",
       "      <td>0.946657</td>\n",
       "      <td>0.777341</td>\n",
       "      <td>0.732314</td>\n",
       "      <td>0.781264</td>\n",
       "      <td>0.868291</td>\n",
       "      <td>...</td>\n",
       "      <td>0.866600</td>\n",
       "      <td>0.993063</td>\n",
       "      <td>0.916265</td>\n",
       "      <td>0.904795</td>\n",
       "      <td>0.597254</td>\n",
       "      <td>0.722843</td>\n",
       "      <td>0.199248</td>\n",
       "      <td>0.934948</td>\n",
       "      <td>0.918487</td>\n",
       "      <td>0.189761</td>\n",
       "    </tr>\n",
       "    <tr>\n",
       "      <th>8820</th>\n",
       "      <td>0.422005</td>\n",
       "      <td>0.601057</td>\n",
       "      <td>0.582154</td>\n",
       "      <td>0.270100</td>\n",
       "      <td>1.000000</td>\n",
       "      <td>0.426843</td>\n",
       "      <td>0.717547</td>\n",
       "      <td>0.559157</td>\n",
       "      <td>0.146094</td>\n",
       "      <td>0.138211</td>\n",
       "      <td>...</td>\n",
       "      <td>0.376001</td>\n",
       "      <td>0.226575</td>\n",
       "      <td>0.541556</td>\n",
       "      <td>0.027251</td>\n",
       "      <td>0.722574</td>\n",
       "      <td>0.716052</td>\n",
       "      <td>0.792111</td>\n",
       "      <td>0.435577</td>\n",
       "      <td>0.486061</td>\n",
       "      <td>0.750547</td>\n",
       "    </tr>\n",
       "  </tbody>\n",
       "</table>\n",
       "<p>5 rows × 1146 columns</p>\n",
       "</div>"
      ],
      "text/plain": [
       "          11419     8332      23729     5551      8820      8727      11407  \\\n",
       "11419  1.000000  0.812388  0.247359  0.799579  0.422005  0.837168  0.700872   \n",
       "8332   0.812388  1.000000  0.657413  0.728397  0.601057  0.797986  0.835132   \n",
       "23729  0.247359  0.657413  1.000000  0.319334  0.582154  0.462283  0.705446   \n",
       "5551   0.799579  0.728397  0.319334  1.000000  0.270100  0.946657  0.777341   \n",
       "8820   0.422005  0.601057  0.582154  0.270100  1.000000  0.426843  0.717547   \n",
       "\n",
       "          1795      9307      18655  ...     17510     8461      4985   \\\n",
       "11419  0.789362  0.762167  0.652128  ...  0.864221  0.756243  0.709364   \n",
       "8332   0.727328  0.817616  0.787966  ...  0.795060  0.655665  0.742491   \n",
       "23729  0.517995  0.438191  0.396816  ...  0.426975  0.283017  0.546301   \n",
       "5551   0.732314  0.781264  0.868291  ...  0.866600  0.993063  0.916265   \n",
       "8820   0.559157  0.146094  0.138211  ...  0.376001  0.226575  0.541556   \n",
       "\n",
       "          1588      6011      10047     18310     4479      12496     24139  \n",
       "11419  0.714836  0.697450  0.585324  0.113894  0.742443  0.893199  0.111598  \n",
       "8332   0.701866  0.696688  0.738599  0.403357  0.755099  0.755455  0.404369  \n",
       "23729  0.251502  0.602669  0.712597  0.769342  0.549703  0.247177  0.825336  \n",
       "5551   0.904795  0.597254  0.722843  0.199248  0.934948  0.918487  0.189761  \n",
       "8820   0.027251  0.722574  0.716052  0.792111  0.435577  0.486061  0.750547  \n",
       "\n",
       "[5 rows x 1146 columns]"
      ]
     },
     "metadata": {},
     "output_type": "display_data"
    },
    {
     "name": "stdout",
     "output_type": "stream",
     "text": [
      "run time： 0.41902780532836914\n"
     ]
    }
   ],
   "source": [
    "import time\n",
    "start_time = time.time()\n",
    "all_stu_pearson = {}\n",
    "if USE_CLUSTER:\n",
    "    cluster_data = my_data.copy()\n",
    "    cluster_data['cluster'] = all_labels\n",
    "    nee_col = list(cluster_data.columns[:-1])\n",
    "    for one_cluster in tqdm(range(K)):\n",
    "        one_clus_data = cluster_data[cluster_data['cluster']==one_cluster][nee_col]\n",
    "        all_stu_pearson[one_cluster] = one_clus_data.T.corr(method='pearson')\n",
    "    display(all_stu_pearson[0].head())\n",
    "else:\n",
    "    all_stu_pearson =  my_data.T.corr(method='pearson')\n",
    "    display(all_stu_pearson.head())\n",
    "end_time = time.time()\n",
    "run_time = end_time - start_time\n",
    "print('run time：',run_time)"
   ]
  },
  {
   "cell_type": "markdown",
   "metadata": {},
   "source": [
    "## Calculate learners' interest in learning resources"
   ]
  },
  {
   "cell_type": "code",
   "execution_count": 17,
   "metadata": {
    "ExecuteTime": {
     "end_time": "2023-06-20T02:45:18.163791Z",
     "start_time": "2023-06-20T02:45:10.475819Z"
    }
   },
   "outputs": [
    {
     "name": "stderr",
     "output_type": "stream",
     "text": [
      "100%|██████████| 4595/4595 [00:07<00:00, 598.33it/s]\n"
     ]
    }
   ],
   "source": [
    "all_stu_sim_resource = {}\n",
    "for one_stu in tqdm(stu_id_index):\n",
    "    if USE_CLUSTER:\n",
    "        one_cluster = stu_2_cluster[one_stu]\n",
    "        k_person = dict(all_stu_pearson[one_cluster].loc[one_stu].sort_values(ascending=False)[:M+1])\n",
    "    else:\n",
    "        k_person = dict(all_stu_pearson.loc[one_stu].sort_values(ascending=False)[:M+1])\n",
    "    k_person[one_stu] = 10\n",
    "    del k_person[one_stu]\n",
    "    one_stu_resource = {}\n",
    "    for sim_stu,sim in k_person.items():\n",
    "        one_sim_stu_resource = list(stu_resource[sim_stu].keys())\n",
    "        for one_resource in one_sim_stu_resource:\n",
    "            if one_resource not in one_stu_resource:\n",
    "                one_stu_resource[one_resource] = 0\n",
    "            one_stu_resource[one_resource] += sim\n",
    "    all_stu_sim_resource[one_stu] = sorted(one_stu_resource.items(), key= lambda k:k[1], reverse=True)"
   ]
  },
  {
   "cell_type": "markdown",
   "metadata": {},
   "source": [
    "## Top N learning resource recommendations"
   ]
  },
  {
   "cell_type": "code",
   "execution_count": 18,
   "metadata": {
    "ExecuteTime": {
     "end_time": "2023-06-20T02:45:20.393126Z",
     "start_time": "2023-06-20T02:45:18.165829Z"
    }
   },
   "outputs": [
    {
     "name": "stderr",
     "output_type": "stream",
     "text": [
      "100%|██████████| 10/10 [00:02<00:00,  4.56it/s]\n"
     ]
    },
    {
     "data": {
      "text/html": [
       "<div>\n",
       "<style scoped>\n",
       "    .dataframe tbody tr th:only-of-type {\n",
       "        vertical-align: middle;\n",
       "    }\n",
       "\n",
       "    .dataframe tbody tr th {\n",
       "        vertical-align: top;\n",
       "    }\n",
       "\n",
       "    .dataframe thead th {\n",
       "        text-align: right;\n",
       "    }\n",
       "</style>\n",
       "<table border=\"1\" class=\"dataframe\">\n",
       "  <thead>\n",
       "    <tr style=\"text-align: right;\">\n",
       "      <th></th>\n",
       "      <th>Top-N</th>\n",
       "      <th>Precision</th>\n",
       "      <th>Recall</th>\n",
       "      <th>F1</th>\n",
       "    </tr>\n",
       "  </thead>\n",
       "  <tbody>\n",
       "    <tr>\n",
       "      <th>5</th>\n",
       "      <td>5</td>\n",
       "      <td>0.491665</td>\n",
       "      <td>0.046841</td>\n",
       "      <td>0.083763</td>\n",
       "    </tr>\n",
       "    <tr>\n",
       "      <th>15</th>\n",
       "      <td>15</td>\n",
       "      <td>0.444512</td>\n",
       "      <td>0.124318</td>\n",
       "      <td>0.186684</td>\n",
       "    </tr>\n",
       "    <tr>\n",
       "      <th>25</th>\n",
       "      <td>25</td>\n",
       "      <td>0.416601</td>\n",
       "      <td>0.191807</td>\n",
       "      <td>0.250173</td>\n",
       "    </tr>\n",
       "    <tr>\n",
       "      <th>35</th>\n",
       "      <td>35</td>\n",
       "      <td>0.392010</td>\n",
       "      <td>0.250143</td>\n",
       "      <td>0.289470</td>\n",
       "    </tr>\n",
       "    <tr>\n",
       "      <th>45</th>\n",
       "      <td>45</td>\n",
       "      <td>0.370296</td>\n",
       "      <td>0.300784</td>\n",
       "      <td>0.313818</td>\n",
       "    </tr>\n",
       "    <tr>\n",
       "      <th>55</th>\n",
       "      <td>55</td>\n",
       "      <td>0.350777</td>\n",
       "      <td>0.345436</td>\n",
       "      <td>0.328658</td>\n",
       "    </tr>\n",
       "    <tr>\n",
       "      <th>65</th>\n",
       "      <td>65</td>\n",
       "      <td>0.332043</td>\n",
       "      <td>0.383646</td>\n",
       "      <td>0.335941</td>\n",
       "    </tr>\n",
       "    <tr>\n",
       "      <th>75</th>\n",
       "      <td>75</td>\n",
       "      <td>0.314960</td>\n",
       "      <td>0.416195</td>\n",
       "      <td>0.338340</td>\n",
       "    </tr>\n",
       "    <tr>\n",
       "      <th>85</th>\n",
       "      <td>85</td>\n",
       "      <td>0.299323</td>\n",
       "      <td>0.444625</td>\n",
       "      <td>0.337658</td>\n",
       "    </tr>\n",
       "    <tr>\n",
       "      <th>95</th>\n",
       "      <td>95</td>\n",
       "      <td>0.284719</td>\n",
       "      <td>0.469525</td>\n",
       "      <td>0.334711</td>\n",
       "    </tr>\n",
       "  </tbody>\n",
       "</table>\n",
       "</div>"
      ],
      "text/plain": [
       "    Top-N  Precision    Recall        F1\n",
       "5       5   0.491665  0.046841  0.083763\n",
       "15     15   0.444512  0.124318  0.186684\n",
       "25     25   0.416601  0.191807  0.250173\n",
       "35     35   0.392010  0.250143  0.289470\n",
       "45     45   0.370296  0.300784  0.313818\n",
       "55     55   0.350777  0.345436  0.328658\n",
       "65     65   0.332043  0.383646  0.335941\n",
       "75     75   0.314960  0.416195  0.338340\n",
       "85     85   0.299323  0.444625  0.337658\n",
       "95     95   0.284719  0.469525  0.334711"
      ]
     },
     "execution_count": 18,
     "metadata": {},
     "output_type": "execute_result"
    }
   ],
   "source": [
    "all_re = []\n",
    "for top_n in tqdm(N_LIST):\n",
    "    all_stu_rec_video = {}\n",
    "    for one_stu in stu_id_index:\n",
    "        all_stu_rec_video[one_stu] = all_stu_sim_resource[one_stu][:top_n]\n",
    "    all_recall = []\n",
    "    all_pre = []\n",
    "    all_f1 = []\n",
    "    for one_stu in stu_id_index:\n",
    "        one_train_video = list(stu_resource[one_stu].keys())\n",
    "        one_hit = 0\n",
    "        for one in all_stu_rec_video[one_stu]:\n",
    "            if one[0] in one_train_video:\n",
    "                one_hit += 1\n",
    "        one_recall = one_hit/len(one_train_video)\n",
    "        all_recall.append(one_recall)\n",
    "        if len(all_stu_rec_video[one_stu])==0:\n",
    "            print(one_stu)\n",
    "        one_pre = one_hit/len(all_stu_rec_video[one_stu])\n",
    "        all_pre.append(one_pre)\n",
    "        if (one_recall+one_pre)==0:\n",
    "            one_f1 = 0\n",
    "        else:\n",
    "            one_f1 = (2*one_recall*one_pre)/(one_recall+one_pre)\n",
    "        all_f1.append(one_f1)\n",
    "    all_recall_1 = np.mean(all_recall)\n",
    "    all_pre_1 = np.mean(all_pre)\n",
    "    all_f1_1 = np.mean(all_f1)\n",
    "    one_re = {'Top-N':top_n,'Precision':all_pre_1,'Recall':all_recall_1,'F1':all_f1_1,}\n",
    "    all_re.append(one_re)\n",
    "all_re_set = pd.DataFrame(all_re)\n",
    "all_re_set.index = list(all_re_set['Top-N'])\n",
    "all_re_set.to_csv(f'log/our_dataset/K.{K}-LBP.{LBP_LEN}-TF.{USE_TF_IDF}-MODULE.{USE_MODULE_INFO}-CLUSTER.{USE_CLUSTER}.csv',index=False)\n",
    "all_re_set.head(20)"
   ]
  },
  {
   "cell_type": "markdown",
   "metadata": {},
   "source": [
    "## Visualization of results"
   ]
  },
  {
   "cell_type": "code",
   "execution_count": 19,
   "metadata": {
    "ExecuteTime": {
     "end_time": "2023-06-20T02:45:20.533538Z",
     "start_time": "2023-06-20T02:45:20.394523Z"
    }
   },
   "outputs": [
    {
     "data": {
      "text/plain": [
       "Text(0, 0.5, 'Value')"
      ]
     },
     "execution_count": 19,
     "metadata": {},
     "output_type": "execute_result"
    },
    {
     "data": {
      "image/png": "[encoded data removed]",
      "text/plain": [
       "<Figure size 432x288 with 1 Axes>"
      ]
     },
     "metadata": {
      "needs_background": "light"
     },
     "output_type": "display_data"
    }
   ],
   "source": [
    "all_re_set_plt = all_re_set[['Precision','Recall','F1']]\n",
    "one_plot = all_re_set_plt.plot()\n",
    "one_plot.set_xlabel('Top-N')\n",
    "one_plot.set_ylabel('Value')"
   ]
  }
 ],
 "metadata": {
  "kernelspec": {
   "display_name": "xhx_kt_py38",
   "language": "python",
   "name": "xhx_kt_py38"
  },
  "language_info": {
   "codemirror_mode": {
    "name": "ipython",
    "version": 3
   },
   "file_extension": ".py",
   "mimetype": "text/x-python",
   "name": "python",
   "nbconvert_exporter": "python",
   "pygments_lexer": "ipython3",
   "version": "3.8.13"
  },
  "toc": {
   "base_numbering": 1,
   "nav_menu": {},
   "number_sections": true,
   "sideBar": true,
   "skip_h1_title": false,
   "title_cell": "Table of Contents",
   "title_sidebar": "Contents",
   "toc_cell": false,
   "toc_position": {
    "height": "calc(100% - 180px)",
    "left": "10px",
    "top": "150px",
    "width": "288.312px"
   },
   "toc_section_display": true,
   "toc_window_display": true
  },
  "varInspector": {
   "cols": {
    "lenName": 16,
    "lenType": 16,
    "lenVar": 40
   },
   "kernels_config": {
    "python": {
     "delete_cmd_postfix": "",
     "delete_cmd_prefix": "del ",
     "library": "var_list.py",
     "varRefreshCmd": "print(var_dic_list())"
    },
    "r": {
     "delete_cmd_postfix": ") ",
     "delete_cmd_prefix": "rm(",
     "library": "var_list.r",
     "varRefreshCmd": "cat(var_dic_list()) "
    }
   },
   "position": {
    "height": "243.85px",
    "left": "1071.6px",
    "right": "20px",
    "top": "120px",
    "width": "350px"
   },
   "types_to_exclude": [
    "module",
    "function",
    "builtin_function_or_method",
    "instance",
    "_Feature"
   ],
   "window_display": false
  }
 },
 "nbformat": 4,
 "nbformat_minor": 2
}
