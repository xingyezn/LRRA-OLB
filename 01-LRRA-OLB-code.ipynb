{
 "cells": [
  {
   "cell_type": "markdown",
   "metadata": {},
   "source": [
    "# Import Library"
   ]
  },
  {
   "cell_type": "code",
   "execution_count": 1,
   "metadata": {
    "ExecuteTime": {
     "end_time": "2023-06-20T03:21:31.130667Z",
     "start_time": "2023-06-20T03:21:29.958623Z"
    }
   },
   "outputs": [],
   "source": [
    "from IPython.display import display\n",
    "import pandas as pd\n",
    "from tqdm import tqdm\n",
    "import numpy as np\n",
    "from sklearn import metrics\n",
    "from sklearn.cluster import KMeans,AgglomerativeClustering\n",
    "from sklearn.decomposition import PCA\n",
    "import matplotlib.pyplot as plt\n",
    "import string\n",
    "import math\n",
    "import warnings\n",
    "warnings.filterwarnings(\"ignore\")"
   ]
  },
  {
   "cell_type": "markdown",
   "metadata": {
    "ExecuteTime": {
     "end_time": "2023-06-15T19:28:41.029271Z",
     "start_time": "2023-06-15T19:28:41.025490Z"
    }
   },
   "source": [
    "## Set parameters"
   ]
  },
  {
   "cell_type": "code",
   "execution_count": 2,
   "metadata": {
    "ExecuteTime": {
     "end_time": "2023-06-20T03:21:31.137530Z",
     "start_time": "2023-06-20T03:21:31.133029Z"
    },
    "code_folding": []
   },
   "outputs": [],
   "source": [
    "# Number of recommended resources\n",
    "N_LIST =  [5,15,25,35,45,55,65,75,85,95,]\n",
    "# Number of similar learners\n",
    "M = 40\n",
    "# Number of clusters\n",
    "K = 4\n",
    "# The length of learning behavior patterns\n",
    "LBP_LEN = 1\n",
    "# Whether to use clustering\n",
    "USE_CLUSTER = True\n",
    "# Whether to use TF-IDF values as feature values\n",
    "USE_TF_IDF = True\n",
    "# Student course selection information\n",
    "USE_MODULE_INFO = False\n",
    "# Set this parameter to select the type of recommended learning resources. Here, we select all types of learning resources\n",
    "R_TYPE = [\n",
    "    'forumng', 'oucontent', 'subpage', 'homepage', 'quiz', \n",
    "          'resource','url', \n",
    "    'ouwiki', 'oucollaborate', 'page', 'questionnaire',\n",
    "       'externalquiz', 'ouelluminate', 'glossary', 'dataplus', 'dualpane',\n",
    "       'htmlactivity', 'folder', \n",
    "        'sharedsubpage', 'repeatactivity'\n",
    "         ]"
   ]
  },
  {
   "cell_type": "markdown",
   "metadata": {},
   "source": [
    "# Load Dataset"
   ]
  },
  {
   "cell_type": "code",
   "execution_count": 3,
   "metadata": {
    "ExecuteTime": {
     "end_time": "2023-06-20T03:21:35.424128Z",
     "start_time": "2023-06-20T03:21:31.138837Z"
    }
   },
   "outputs": [],
   "source": [
    "studentVle = pd.read_csv('data/OULAD_Dataset/studentVle.csv')\n",
    "studentAssessment = pd.read_csv('data/OULAD_Dataset/studentAssessment.csv')\n",
    "vle = pd.read_csv('data/OULAD_Dataset/vle.csv')"
   ]
  },
  {
   "cell_type": "markdown",
   "metadata": {},
   "source": [
    "## View Data"
   ]
  },
  {
   "cell_type": "code",
   "execution_count": 4,
   "metadata": {
    "ExecuteTime": {
     "end_time": "2023-06-20T03:21:35.442486Z",
     "start_time": "2023-06-20T03:21:35.426595Z"
    }
   },
   "outputs": [
    {
     "data": {
      "text/html": [
       "<div>\n",
       "<style scoped>\n",
       "    .dataframe tbody tr th:only-of-type {\n",
       "        vertical-align: middle;\n",
       "    }\n",
       "\n",
       "    .dataframe tbody tr th {\n",
       "        vertical-align: top;\n",
       "    }\n",
       "\n",
       "    .dataframe thead th {\n",
       "        text-align: right;\n",
       "    }\n",
       "</style>\n",
       "<table border=\"1\" class=\"dataframe\">\n",
       "  <thead>\n",
       "    <tr style=\"text-align: right;\">\n",
       "      <th></th>\n",
       "      <th>code_module</th>\n",
       "      <th>code_presentation</th>\n",
       "      <th>id_student</th>\n",
       "      <th>id_site</th>\n",
       "      <th>date</th>\n",
       "      <th>sum_click</th>\n",
       "    </tr>\n",
       "  </thead>\n",
       "  <tbody>\n",
       "    <tr>\n",
       "      <th>0</th>\n",
       "      <td>AAA</td>\n",
       "      <td>2013J</td>\n",
       "      <td>28400</td>\n",
       "      <td>546652</td>\n",
       "      <td>-10</td>\n",
       "      <td>4</td>\n",
       "    </tr>\n",
       "    <tr>\n",
       "      <th>1</th>\n",
       "      <td>AAA</td>\n",
       "      <td>2013J</td>\n",
       "      <td>28400</td>\n",
       "      <td>546652</td>\n",
       "      <td>-10</td>\n",
       "      <td>1</td>\n",
       "    </tr>\n",
       "    <tr>\n",
       "      <th>2</th>\n",
       "      <td>AAA</td>\n",
       "      <td>2013J</td>\n",
       "      <td>28400</td>\n",
       "      <td>546652</td>\n",
       "      <td>-10</td>\n",
       "      <td>1</td>\n",
       "    </tr>\n",
       "    <tr>\n",
       "      <th>3</th>\n",
       "      <td>AAA</td>\n",
       "      <td>2013J</td>\n",
       "      <td>28400</td>\n",
       "      <td>546614</td>\n",
       "      <td>-10</td>\n",
       "      <td>11</td>\n",
       "    </tr>\n",
       "    <tr>\n",
       "      <th>4</th>\n",
       "      <td>AAA</td>\n",
       "      <td>2013J</td>\n",
       "      <td>28400</td>\n",
       "      <td>546714</td>\n",
       "      <td>-10</td>\n",
       "      <td>1</td>\n",
       "    </tr>\n",
       "  </tbody>\n",
       "</table>\n",
       "</div>"
      ],
      "text/plain": [
       "  code_module code_presentation  id_student  id_site  date  sum_click\n",
       "0         AAA             2013J       28400   546652   -10          4\n",
       "1         AAA             2013J       28400   546652   -10          1\n",
       "2         AAA             2013J       28400   546652   -10          1\n",
       "3         AAA             2013J       28400   546614   -10         11\n",
       "4         AAA             2013J       28400   546714   -10          1"
      ]
     },
     "execution_count": 4,
     "metadata": {},
     "output_type": "execute_result"
    }
   ],
   "source": [
    "studentVle.head()"
   ]
  },
  {
   "cell_type": "code",
   "execution_count": 5,
   "metadata": {
    "ExecuteTime": {
     "end_time": "2023-06-20T03:21:35.454122Z",
     "start_time": "2023-06-20T03:21:35.443729Z"
    }
   },
   "outputs": [
    {
     "data": {
      "text/html": [
       "<div>\n",
       "<style scoped>\n",
       "    .dataframe tbody tr th:only-of-type {\n",
       "        vertical-align: middle;\n",
       "    }\n",
       "\n",
       "    .dataframe tbody tr th {\n",
       "        vertical-align: top;\n",
       "    }\n",
       "\n",
       "    .dataframe thead th {\n",
       "        text-align: right;\n",
       "    }\n",
       "</style>\n",
       "<table border=\"1\" class=\"dataframe\">\n",
       "  <thead>\n",
       "    <tr style=\"text-align: right;\">\n",
       "      <th></th>\n",
       "      <th>id_assessment</th>\n",
       "      <th>id_student</th>\n",
       "      <th>date_submitted</th>\n",
       "      <th>is_banked</th>\n",
       "      <th>score</th>\n",
       "    </tr>\n",
       "  </thead>\n",
       "  <tbody>\n",
       "    <tr>\n",
       "      <th>0</th>\n",
       "      <td>1752</td>\n",
       "      <td>11391</td>\n",
       "      <td>18</td>\n",
       "      <td>0</td>\n",
       "      <td>78.0</td>\n",
       "    </tr>\n",
       "    <tr>\n",
       "      <th>1</th>\n",
       "      <td>1752</td>\n",
       "      <td>28400</td>\n",
       "      <td>22</td>\n",
       "      <td>0</td>\n",
       "      <td>70.0</td>\n",
       "    </tr>\n",
       "    <tr>\n",
       "      <th>2</th>\n",
       "      <td>1752</td>\n",
       "      <td>31604</td>\n",
       "      <td>17</td>\n",
       "      <td>0</td>\n",
       "      <td>72.0</td>\n",
       "    </tr>\n",
       "    <tr>\n",
       "      <th>3</th>\n",
       "      <td>1752</td>\n",
       "      <td>32885</td>\n",
       "      <td>26</td>\n",
       "      <td>0</td>\n",
       "      <td>69.0</td>\n",
       "    </tr>\n",
       "    <tr>\n",
       "      <th>4</th>\n",
       "      <td>1752</td>\n",
       "      <td>38053</td>\n",
       "      <td>19</td>\n",
       "      <td>0</td>\n",
       "      <td>79.0</td>\n",
       "    </tr>\n",
       "  </tbody>\n",
       "</table>\n",
       "</div>"
      ],
      "text/plain": [
       "   id_assessment  id_student  date_submitted  is_banked  score\n",
       "0           1752       11391              18          0   78.0\n",
       "1           1752       28400              22          0   70.0\n",
       "2           1752       31604              17          0   72.0\n",
       "3           1752       32885              26          0   69.0\n",
       "4           1752       38053              19          0   79.0"
      ]
     },
     "execution_count": 5,
     "metadata": {},
     "output_type": "execute_result"
    }
   ],
   "source": [
    "studentAssessment.head()"
   ]
  },
  {
   "cell_type": "code",
   "execution_count": 6,
   "metadata": {
    "ExecuteTime": {
     "end_time": "2023-06-20T03:21:35.464153Z",
     "start_time": "2023-06-20T03:21:35.456459Z"
    }
   },
   "outputs": [
    {
     "data": {
      "text/html": [
       "<div>\n",
       "<style scoped>\n",
       "    .dataframe tbody tr th:only-of-type {\n",
       "        vertical-align: middle;\n",
       "    }\n",
       "\n",
       "    .dataframe tbody tr th {\n",
       "        vertical-align: top;\n",
       "    }\n",
       "\n",
       "    .dataframe thead th {\n",
       "        text-align: right;\n",
       "    }\n",
       "</style>\n",
       "<table border=\"1\" class=\"dataframe\">\n",
       "  <thead>\n",
       "    <tr style=\"text-align: right;\">\n",
       "      <th></th>\n",
       "      <th>id_site</th>\n",
       "      <th>code_module</th>\n",
       "      <th>code_presentation</th>\n",
       "      <th>activity_type</th>\n",
       "      <th>week_from</th>\n",
       "      <th>week_to</th>\n",
       "    </tr>\n",
       "  </thead>\n",
       "  <tbody>\n",
       "    <tr>\n",
       "      <th>0</th>\n",
       "      <td>546943</td>\n",
       "      <td>AAA</td>\n",
       "      <td>2013J</td>\n",
       "      <td>resource</td>\n",
       "      <td>NaN</td>\n",
       "      <td>NaN</td>\n",
       "    </tr>\n",
       "    <tr>\n",
       "      <th>1</th>\n",
       "      <td>546712</td>\n",
       "      <td>AAA</td>\n",
       "      <td>2013J</td>\n",
       "      <td>oucontent</td>\n",
       "      <td>NaN</td>\n",
       "      <td>NaN</td>\n",
       "    </tr>\n",
       "    <tr>\n",
       "      <th>2</th>\n",
       "      <td>546998</td>\n",
       "      <td>AAA</td>\n",
       "      <td>2013J</td>\n",
       "      <td>resource</td>\n",
       "      <td>NaN</td>\n",
       "      <td>NaN</td>\n",
       "    </tr>\n",
       "    <tr>\n",
       "      <th>3</th>\n",
       "      <td>546888</td>\n",
       "      <td>AAA</td>\n",
       "      <td>2013J</td>\n",
       "      <td>url</td>\n",
       "      <td>NaN</td>\n",
       "      <td>NaN</td>\n",
       "    </tr>\n",
       "    <tr>\n",
       "      <th>4</th>\n",
       "      <td>547035</td>\n",
       "      <td>AAA</td>\n",
       "      <td>2013J</td>\n",
       "      <td>resource</td>\n",
       "      <td>NaN</td>\n",
       "      <td>NaN</td>\n",
       "    </tr>\n",
       "  </tbody>\n",
       "</table>\n",
       "</div>"
      ],
      "text/plain": [
       "   id_site code_module code_presentation activity_type  week_from  week_to\n",
       "0   546943         AAA             2013J      resource        NaN      NaN\n",
       "1   546712         AAA             2013J     oucontent        NaN      NaN\n",
       "2   546998         AAA             2013J      resource        NaN      NaN\n",
       "3   546888         AAA             2013J           url        NaN      NaN\n",
       "4   547035         AAA             2013J      resource        NaN      NaN"
      ]
     },
     "execution_count": 6,
     "metadata": {},
     "output_type": "execute_result"
    }
   ],
   "source": [
    "vle.head()"
   ]
  },
  {
   "cell_type": "markdown",
   "metadata": {},
   "source": [
    "## Screening Students"
   ]
  },
  {
   "cell_type": "code",
   "execution_count": 7,
   "metadata": {
    "ExecuteTime": {
     "end_time": "2023-06-20T03:21:35.631422Z",
     "start_time": "2023-06-20T03:21:35.465469Z"
    }
   },
   "outputs": [
    {
     "name": "stdout",
     "output_type": "stream",
     "text": [
      "Number of learners： 19294\n"
     ]
    }
   ],
   "source": [
    "min_score = 60\n",
    "def get_need_stu():\n",
    "    \"\"\"Students with an average score of 60 or higher\"\"\"\n",
    "    stu_score_mean = studentAssessment.groupby('id_student').mean()['score']\n",
    "    need_stu = stu_score_mean[stu_score_mean>=min_score]\n",
    "    stu_vle = studentVle['id_student'].value_counts()\n",
    "    stu_vle = stu_vle[stu_vle>LBP_LEN]\n",
    "    need_stu_have = []\n",
    "    for one in need_stu.index:\n",
    "        if one in stu_vle.index:\n",
    "            need_stu_have.append(one)\n",
    "    print(f'Number of learners：',len(need_stu_have))\n",
    "    return need_stu_have\n",
    "need_stu_have = get_need_stu()\n",
    "all_stu_len = len(need_stu_have)"
   ]
  },
  {
   "cell_type": "markdown",
   "metadata": {},
   "source": [
    "## Generate Basic Data"
   ]
  },
  {
   "cell_type": "code",
   "execution_count": 8,
   "metadata": {
    "ExecuteTime": {
     "end_time": "2023-06-20T03:21:35.636950Z",
     "start_time": "2023-06-20T03:21:35.633200Z"
    }
   },
   "outputs": [],
   "source": [
    "def generate_uppercase_sequence(length):\n",
    "    \"\"\"Obtain uppercase ABC of corresponding length\"\"\"\n",
    "    uppercase_letters = string.ascii_uppercase\n",
    "    sequence = []\n",
    "    for i in range(length):\n",
    "        sequence.append(uppercase_letters[i % 26])\n",
    "    return sequence\n",
    "\n",
    "def get_seq(one_seq):\n",
    "    \"\"\"Convert a string to its original sequence\"\"\"\n",
    "    one_real_seq = []\n",
    "    for one in one_seq:\n",
    "        one_real_seq.append(event_code_A[one])\n",
    "    return one_real_seq"
   ]
  },
  {
   "cell_type": "code",
   "execution_count": 9,
   "metadata": {
    "ExecuteTime": {
     "end_time": "2023-06-20T03:21:40.494622Z",
     "start_time": "2023-06-20T03:21:35.638488Z"
    }
   },
   "outputs": [
    {
     "data": {
      "text/html": [
       "<div>\n",
       "<style scoped>\n",
       "    .dataframe tbody tr th:only-of-type {\n",
       "        vertical-align: middle;\n",
       "    }\n",
       "\n",
       "    .dataframe tbody tr th {\n",
       "        vertical-align: top;\n",
       "    }\n",
       "\n",
       "    .dataframe thead th {\n",
       "        text-align: right;\n",
       "    }\n",
       "</style>\n",
       "<table border=\"1\" class=\"dataframe\">\n",
       "  <thead>\n",
       "    <tr style=\"text-align: right;\">\n",
       "      <th></th>\n",
       "      <th>code_module</th>\n",
       "      <th>code_presentation</th>\n",
       "      <th>id_student</th>\n",
       "      <th>id_site</th>\n",
       "      <th>date</th>\n",
       "      <th>sum_click</th>\n",
       "      <th>activity_type</th>\n",
       "      <th>event_code</th>\n",
       "    </tr>\n",
       "  </thead>\n",
       "  <tbody>\n",
       "    <tr>\n",
       "      <th>28400</th>\n",
       "      <td>AAA</td>\n",
       "      <td>2013J</td>\n",
       "      <td>28400</td>\n",
       "      <td>546652</td>\n",
       "      <td>-10</td>\n",
       "      <td>4</td>\n",
       "      <td>forumng</td>\n",
       "      <td>A</td>\n",
       "    </tr>\n",
       "    <tr>\n",
       "      <th>28400</th>\n",
       "      <td>AAA</td>\n",
       "      <td>2013J</td>\n",
       "      <td>28400</td>\n",
       "      <td>546652</td>\n",
       "      <td>-10</td>\n",
       "      <td>1</td>\n",
       "      <td>forumng</td>\n",
       "      <td>A</td>\n",
       "    </tr>\n",
       "    <tr>\n",
       "      <th>28400</th>\n",
       "      <td>AAA</td>\n",
       "      <td>2013J</td>\n",
       "      <td>28400</td>\n",
       "      <td>546652</td>\n",
       "      <td>-10</td>\n",
       "      <td>1</td>\n",
       "      <td>forumng</td>\n",
       "      <td>A</td>\n",
       "    </tr>\n",
       "    <tr>\n",
       "      <th>28400</th>\n",
       "      <td>AAA</td>\n",
       "      <td>2013J</td>\n",
       "      <td>28400</td>\n",
       "      <td>546614</td>\n",
       "      <td>-10</td>\n",
       "      <td>11</td>\n",
       "      <td>homepage</td>\n",
       "      <td>D</td>\n",
       "    </tr>\n",
       "    <tr>\n",
       "      <th>28400</th>\n",
       "      <td>AAA</td>\n",
       "      <td>2013J</td>\n",
       "      <td>28400</td>\n",
       "      <td>546714</td>\n",
       "      <td>-10</td>\n",
       "      <td>1</td>\n",
       "      <td>oucontent</td>\n",
       "      <td>B</td>\n",
       "    </tr>\n",
       "  </tbody>\n",
       "</table>\n",
       "</div>"
      ],
      "text/plain": [
       "      code_module code_presentation  id_student  id_site  date  sum_click  \\\n",
       "28400         AAA             2013J       28400   546652   -10          4   \n",
       "28400         AAA             2013J       28400   546652   -10          1   \n",
       "28400         AAA             2013J       28400   546652   -10          1   \n",
       "28400         AAA             2013J       28400   546614   -10         11   \n",
       "28400         AAA             2013J       28400   546714   -10          1   \n",
       "\n",
       "      activity_type event_code  \n",
       "28400       forumng          A  \n",
       "28400       forumng          A  \n",
       "28400       forumng          A  \n",
       "28400      homepage          D  \n",
       "28400     oucontent          B  "
      ]
     },
     "execution_count": 9,
     "metadata": {},
     "output_type": "execute_result"
    }
   ],
   "source": [
    "# Mapping of Activity Types and Learning Resources\n",
    "stie_2_type = dict(zip(vle['id_site'],vle['activity_type']))\n",
    "studentVle = studentVle[studentVle['id_student'].isin(need_stu_have)].reset_index(drop=True)\n",
    "studentVle['activity_type'] = studentVle['id_site'].map(stie_2_type)\n",
    "studentVle.index = list(studentVle['id_student'])\n",
    "all_act_type = list(studentVle['activity_type'].value_counts().index)\n",
    "event_code = dict(zip(all_act_type,generate_uppercase_sequence(len(all_act_type))))\n",
    "event_code_A = dict(zip(generate_uppercase_sequence(len(all_act_type)),all_act_type))\n",
    "studentVle['event_code'] = studentVle['activity_type'].map(event_code)\n",
    "studentVle.head()"
   ]
  },
  {
   "cell_type": "markdown",
   "metadata": {},
   "source": [
    "# Generate learner feature matrix"
   ]
  },
  {
   "cell_type": "markdown",
   "metadata": {},
   "source": [
    "## Obtain student course selection information"
   ]
  },
  {
   "cell_type": "code",
   "execution_count": 10,
   "metadata": {
    "ExecuteTime": {
     "end_time": "2023-06-20T03:21:42.826395Z",
     "start_time": "2023-06-20T03:21:40.496123Z"
    }
   },
   "outputs": [],
   "source": [
    "student_module = studentVle[['code_module','code_presentation','id_student']].drop_duplicates()\n",
    "# Using one hot encoding for representation\n",
    "studentInfo_one_hot = pd.get_dummies(student_module,columns=['code_module','code_presentation'])\n",
    "studentInfo_one_hot = studentInfo_one_hot.groupby('id_student').sum()\n",
    "studentInfo_one_hot.index = list(studentInfo_one_hot.index)\n",
    "studentInfo_one_hot.to_pickle('data/process_data/studentInfo_one_hot.pkl')"
   ]
  },
  {
   "cell_type": "code",
   "execution_count": 11,
   "metadata": {
    "ExecuteTime": {
     "end_time": "2023-06-20T03:21:42.839114Z",
     "start_time": "2023-06-20T03:21:42.827814Z"
    }
   },
   "outputs": [
    {
     "data": {
      "text/html": [
       "<div>\n",
       "<style scoped>\n",
       "    .dataframe tbody tr th:only-of-type {\n",
       "        vertical-align: middle;\n",
       "    }\n",
       "\n",
       "    .dataframe tbody tr th {\n",
       "        vertical-align: top;\n",
       "    }\n",
       "\n",
       "    .dataframe thead th {\n",
       "        text-align: right;\n",
       "    }\n",
       "</style>\n",
       "<table border=\"1\" class=\"dataframe\">\n",
       "  <thead>\n",
       "    <tr style=\"text-align: right;\">\n",
       "      <th></th>\n",
       "      <th>code_module_AAA</th>\n",
       "      <th>code_module_BBB</th>\n",
       "      <th>code_module_CCC</th>\n",
       "      <th>code_module_DDD</th>\n",
       "      <th>code_module_EEE</th>\n",
       "      <th>code_module_FFF</th>\n",
       "      <th>code_module_GGG</th>\n",
       "      <th>code_presentation_2013B</th>\n",
       "      <th>code_presentation_2013J</th>\n",
       "      <th>code_presentation_2014B</th>\n",
       "      <th>code_presentation_2014J</th>\n",
       "    </tr>\n",
       "  </thead>\n",
       "  <tbody>\n",
       "    <tr>\n",
       "      <th>6516</th>\n",
       "      <td>1</td>\n",
       "      <td>0</td>\n",
       "      <td>0</td>\n",
       "      <td>0</td>\n",
       "      <td>0</td>\n",
       "      <td>0</td>\n",
       "      <td>0</td>\n",
       "      <td>0</td>\n",
       "      <td>0</td>\n",
       "      <td>0</td>\n",
       "      <td>1</td>\n",
       "    </tr>\n",
       "    <tr>\n",
       "      <th>8462</th>\n",
       "      <td>0</td>\n",
       "      <td>0</td>\n",
       "      <td>0</td>\n",
       "      <td>2</td>\n",
       "      <td>0</td>\n",
       "      <td>0</td>\n",
       "      <td>0</td>\n",
       "      <td>0</td>\n",
       "      <td>1</td>\n",
       "      <td>0</td>\n",
       "      <td>1</td>\n",
       "    </tr>\n",
       "    <tr>\n",
       "      <th>11391</th>\n",
       "      <td>1</td>\n",
       "      <td>0</td>\n",
       "      <td>0</td>\n",
       "      <td>0</td>\n",
       "      <td>0</td>\n",
       "      <td>0</td>\n",
       "      <td>0</td>\n",
       "      <td>0</td>\n",
       "      <td>1</td>\n",
       "      <td>0</td>\n",
       "      <td>0</td>\n",
       "    </tr>\n",
       "    <tr>\n",
       "      <th>23629</th>\n",
       "      <td>0</td>\n",
       "      <td>1</td>\n",
       "      <td>0</td>\n",
       "      <td>0</td>\n",
       "      <td>0</td>\n",
       "      <td>0</td>\n",
       "      <td>0</td>\n",
       "      <td>1</td>\n",
       "      <td>0</td>\n",
       "      <td>0</td>\n",
       "      <td>0</td>\n",
       "    </tr>\n",
       "    <tr>\n",
       "      <th>23698</th>\n",
       "      <td>0</td>\n",
       "      <td>0</td>\n",
       "      <td>1</td>\n",
       "      <td>0</td>\n",
       "      <td>0</td>\n",
       "      <td>0</td>\n",
       "      <td>0</td>\n",
       "      <td>0</td>\n",
       "      <td>0</td>\n",
       "      <td>0</td>\n",
       "      <td>1</td>\n",
       "    </tr>\n",
       "  </tbody>\n",
       "</table>\n",
       "</div>"
      ],
      "text/plain": [
       "       code_module_AAA  code_module_BBB  code_module_CCC  code_module_DDD  \\\n",
       "6516                 1                0                0                0   \n",
       "8462                 0                0                0                2   \n",
       "11391                1                0                0                0   \n",
       "23629                0                1                0                0   \n",
       "23698                0                0                1                0   \n",
       "\n",
       "       code_module_EEE  code_module_FFF  code_module_GGG  \\\n",
       "6516                 0                0                0   \n",
       "8462                 0                0                0   \n",
       "11391                0                0                0   \n",
       "23629                0                0                0   \n",
       "23698                0                0                0   \n",
       "\n",
       "       code_presentation_2013B  code_presentation_2013J  \\\n",
       "6516                         0                        0   \n",
       "8462                         0                        1   \n",
       "11391                        0                        1   \n",
       "23629                        1                        0   \n",
       "23698                        0                        0   \n",
       "\n",
       "       code_presentation_2014B  code_presentation_2014J  \n",
       "6516                         0                        1  \n",
       "8462                         0                        1  \n",
       "11391                        0                        0  \n",
       "23629                        0                        0  \n",
       "23698                        0                        1  "
      ]
     },
     "execution_count": 11,
     "metadata": {},
     "output_type": "execute_result"
    }
   ],
   "source": [
    "# index is student id\n",
    "studentInfo_one_hot = pd.read_pickle('data/process_data/studentInfo_one_hot.pkl')\n",
    "studentInfo_one_hot.head()"
   ]
  },
  {
   "cell_type": "markdown",
   "metadata": {},
   "source": [
    "## Extracting learner behavior sequences"
   ]
  },
  {
   "cell_type": "code",
   "execution_count": 12,
   "metadata": {
    "ExecuteTime": {
     "end_time": "2023-06-20T03:21:42.843920Z",
     "start_time": "2023-06-20T03:21:42.840562Z"
    }
   },
   "outputs": [],
   "source": [
    "# # This will run for about 5 minutes, so we have saved the process data\n",
    "# # The sequence of learning behaviors for each student\n",
    "# all_seq_data = {}\n",
    "# # Learning resources for each student\n",
    "# stu_resource = {}\n",
    "# for one_stu in tqdm(need_stu_have):\n",
    "#     one_stu_data = studentVle.loc[one_stu].copy()\n",
    "#     one_stu_res = dict(one_stu_data[one_stu_data['activity_type'].isin(R_TYPE)].groupby('id_site').sum()['sum_click'])\n",
    "#     if len(one_stu_res.keys())==0:\n",
    "#         continue\n",
    "#     stu_resource[one_stu] = one_stu_res\n",
    "#     all_seq_data[one_stu] = list(one_stu_data['event_code'])\n",
    "# pd.to_pickle(stu_resource,'data/process_data/stu_resource.plk')\n",
    "# pd.to_pickle(all_seq_data,'data/process_data/all_seq_data.plk')"
   ]
  },
  {
   "cell_type": "code",
   "execution_count": 13,
   "metadata": {
    "ExecuteTime": {
     "end_time": "2023-06-20T03:21:43.773388Z",
     "start_time": "2023-06-20T03:21:42.845312Z"
    }
   },
   "outputs": [],
   "source": [
    "stu_resource = pd.read_pickle('data/process_data/stu_resource.plk')\n",
    "all_seq_data = pd.read_pickle('data/process_data/all_seq_data.plk')"
   ]
  },
  {
   "cell_type": "markdown",
   "metadata": {},
   "source": [
    "## Extracting Learning Behavior Patterns"
   ]
  },
  {
   "cell_type": "code",
   "execution_count": 14,
   "metadata": {
    "ExecuteTime": {
     "end_time": "2023-06-20T03:21:43.779792Z",
     "start_time": "2023-06-20T03:21:43.775250Z"
    }
   },
   "outputs": [],
   "source": [
    "def sort_dict(one_dict,reverse=True):\n",
    "    return dict(sorted(one_dict.items(), key=lambda x: x[1],reverse=True))\n",
    "\n",
    "def get_dup_seq(one_seq,k):\n",
    "    \"\"\"\n",
    "    Get Learning Behavior Patterns\n",
    "    \"\"\"\n",
    "    one_dup_seq = {}\n",
    "    for i in range(len(one_seq) - k + 1):\n",
    "        subseq = one_seq[i:i+k]\n",
    "        if subseq in one_dup_seq:\n",
    "            one_dup_seq[subseq] += 1\n",
    "        else:\n",
    "            one_dup_seq[subseq] = 1\n",
    "    one_dup_seq = sort_dict(one_dup_seq)\n",
    "    return one_dup_seq"
   ]
  },
  {
   "cell_type": "code",
   "execution_count": 15,
   "metadata": {
    "ExecuteTime": {
     "end_time": "2023-06-20T03:21:45.657718Z",
     "start_time": "2023-06-20T03:21:43.781134Z"
    }
   },
   "outputs": [
    {
     "name": "stderr",
     "output_type": "stream",
     "text": [
      "100%|██████████| 19294/19294 [00:01<00:00, 10335.22it/s]\n"
     ]
    }
   ],
   "source": [
    "all_stu_seq = {}\n",
    "all_seq_num = {}\n",
    "for one_stu,one_seq in tqdm(all_seq_data.items()):\n",
    "    all_stu_seq[one_stu] = {}\n",
    "    one_dup_seq = get_dup_seq(''.join(one_seq),LBP_LEN)\n",
    "    all_stu_seq[one_stu] = one_dup_seq\n",
    "    for one_sub_key in one_dup_seq.keys():\n",
    "        if one_sub_key in all_seq_num:\n",
    "            all_seq_num[one_sub_key] += 1\n",
    "        else:\n",
    "            all_seq_num[one_sub_key] = 1"
   ]
  },
  {
   "cell_type": "markdown",
   "metadata": {},
   "source": [
    "## Calculate TF-IDF value"
   ]
  },
  {
   "cell_type": "code",
   "execution_count": 16,
   "metadata": {
    "ExecuteTime": {
     "end_time": "2023-06-20T03:21:45.744106Z",
     "start_time": "2023-06-20T03:21:45.659010Z"
    }
   },
   "outputs": [
    {
     "name": "stderr",
     "output_type": "stream",
     "text": [
      "100%|██████████| 19294/19294 [00:00<00:00, 249103.17it/s]\n"
     ]
    }
   ],
   "source": [
    "all_stu_num = len(all_seq_data.keys())\n",
    "seq_IDF = [math.log(all_stu_num/(one+1),10) for one in list(all_seq_num.values())]\n",
    "all_seq_IDF = dict(zip(list(all_seq_num.keys()),seq_IDF))\n",
    "stu_TF_IDF = {}\n",
    "for key,sub_seq in tqdm(all_stu_seq.items()):\n",
    "    one_stu_TF_IDF = {}\n",
    "    seq_all_num = sum(list(sub_seq.values()))\n",
    "    for sub_k,sub_v in sub_seq.items():\n",
    "        if sub_k not in all_seq_IDF:\n",
    "            continue\n",
    "        one_TF = sub_v/seq_all_num\n",
    "        one_stu_TF_IDF[sub_k] = all_seq_IDF[sub_k]*one_TF\n",
    "    stu_TF_IDF[key] = one_stu_TF_IDF"
   ]
  },
  {
   "cell_type": "code",
   "execution_count": 17,
   "metadata": {
    "ExecuteTime": {
     "end_time": "2023-06-20T03:21:45.882654Z",
     "start_time": "2023-06-20T03:21:45.745360Z"
    }
   },
   "outputs": [
    {
     "name": "stderr",
     "output_type": "stream",
     "text": [
      "100%|██████████| 19294/19294 [00:00<00:00, 748424.55it/s]\n"
     ]
    },
    {
     "data": {
      "text/html": [
       "<div>\n",
       "<style scoped>\n",
       "    .dataframe tbody tr th:only-of-type {\n",
       "        vertical-align: middle;\n",
       "    }\n",
       "\n",
       "    .dataframe tbody tr th {\n",
       "        vertical-align: top;\n",
       "    }\n",
       "\n",
       "    .dataframe thead th {\n",
       "        text-align: right;\n",
       "    }\n",
       "</style>\n",
       "<table border=\"1\" class=\"dataframe\">\n",
       "  <thead>\n",
       "    <tr style=\"text-align: right;\">\n",
       "      <th></th>\n",
       "      <th>B</th>\n",
       "      <th>A</th>\n",
       "      <th>D</th>\n",
       "      <th>C</th>\n",
       "      <th>G</th>\n",
       "      <th>F</th>\n",
       "      <th>O</th>\n",
       "      <th>L</th>\n",
       "      <th>I</th>\n",
       "      <th>H</th>\n",
       "      <th>E</th>\n",
       "      <th>J</th>\n",
       "      <th>N</th>\n",
       "      <th>M</th>\n",
       "      <th>K</th>\n",
       "      <th>P</th>\n",
       "      <th>R</th>\n",
       "      <th>Q</th>\n",
       "      <th>S</th>\n",
       "      <th>T</th>\n",
       "    </tr>\n",
       "  </thead>\n",
       "  <tbody>\n",
       "    <tr>\n",
       "      <th>6516</th>\n",
       "      <td>0.005694</td>\n",
       "      <td>0.004769</td>\n",
       "      <td>0.000011</td>\n",
       "      <td>0.000236</td>\n",
       "      <td>0.004593</td>\n",
       "      <td>0.000151</td>\n",
       "      <td>0.005261</td>\n",
       "      <td>0.000000</td>\n",
       "      <td>0.000000</td>\n",
       "      <td>0.000000</td>\n",
       "      <td>0.000000</td>\n",
       "      <td>0.000000</td>\n",
       "      <td>0.0</td>\n",
       "      <td>0.0</td>\n",
       "      <td>0.0</td>\n",
       "      <td>0.0</td>\n",
       "      <td>0.0</td>\n",
       "      <td>0.0</td>\n",
       "      <td>0.0</td>\n",
       "      <td>0.0</td>\n",
       "    </tr>\n",
       "    <tr>\n",
       "      <th>8462</th>\n",
       "      <td>0.001752</td>\n",
       "      <td>0.001246</td>\n",
       "      <td>0.000008</td>\n",
       "      <td>0.000804</td>\n",
       "      <td>0.003470</td>\n",
       "      <td>0.000881</td>\n",
       "      <td>0.000000</td>\n",
       "      <td>0.023479</td>\n",
       "      <td>0.009561</td>\n",
       "      <td>0.005729</td>\n",
       "      <td>0.000000</td>\n",
       "      <td>0.000000</td>\n",
       "      <td>0.0</td>\n",
       "      <td>0.0</td>\n",
       "      <td>0.0</td>\n",
       "      <td>0.0</td>\n",
       "      <td>0.0</td>\n",
       "      <td>0.0</td>\n",
       "      <td>0.0</td>\n",
       "      <td>0.0</td>\n",
       "    </tr>\n",
       "    <tr>\n",
       "      <th>11391</th>\n",
       "      <td>0.008153</td>\n",
       "      <td>0.004786</td>\n",
       "      <td>0.000009</td>\n",
       "      <td>0.000120</td>\n",
       "      <td>0.001266</td>\n",
       "      <td>0.000295</td>\n",
       "      <td>0.000000</td>\n",
       "      <td>0.000000</td>\n",
       "      <td>0.000000</td>\n",
       "      <td>0.000000</td>\n",
       "      <td>0.000000</td>\n",
       "      <td>0.000000</td>\n",
       "      <td>0.0</td>\n",
       "      <td>0.0</td>\n",
       "      <td>0.0</td>\n",
       "      <td>0.0</td>\n",
       "      <td>0.0</td>\n",
       "      <td>0.0</td>\n",
       "      <td>0.0</td>\n",
       "      <td>0.0</td>\n",
       "    </tr>\n",
       "    <tr>\n",
       "      <th>23629</th>\n",
       "      <td>0.000000</td>\n",
       "      <td>0.007338</td>\n",
       "      <td>0.000012</td>\n",
       "      <td>0.000073</td>\n",
       "      <td>0.000000</td>\n",
       "      <td>0.000178</td>\n",
       "      <td>0.000000</td>\n",
       "      <td>0.000000</td>\n",
       "      <td>0.000000</td>\n",
       "      <td>0.000000</td>\n",
       "      <td>0.024948</td>\n",
       "      <td>0.000000</td>\n",
       "      <td>0.0</td>\n",
       "      <td>0.0</td>\n",
       "      <td>0.0</td>\n",
       "      <td>0.0</td>\n",
       "      <td>0.0</td>\n",
       "      <td>0.0</td>\n",
       "      <td>0.0</td>\n",
       "      <td>0.0</td>\n",
       "    </tr>\n",
       "    <tr>\n",
       "      <th>23698</th>\n",
       "      <td>0.000269</td>\n",
       "      <td>0.002484</td>\n",
       "      <td>0.000010</td>\n",
       "      <td>0.000478</td>\n",
       "      <td>0.001017</td>\n",
       "      <td>0.000689</td>\n",
       "      <td>0.000000</td>\n",
       "      <td>0.000000</td>\n",
       "      <td>0.000000</td>\n",
       "      <td>0.000000</td>\n",
       "      <td>0.024451</td>\n",
       "      <td>0.001453</td>\n",
       "      <td>0.0</td>\n",
       "      <td>0.0</td>\n",
       "      <td>0.0</td>\n",
       "      <td>0.0</td>\n",
       "      <td>0.0</td>\n",
       "      <td>0.0</td>\n",
       "      <td>0.0</td>\n",
       "      <td>0.0</td>\n",
       "    </tr>\n",
       "  </tbody>\n",
       "</table>\n",
       "</div>"
      ],
      "text/plain": [
       "              B         A         D         C         G         F         O  \\\n",
       "6516   0.005694  0.004769  0.000011  0.000236  0.004593  0.000151  0.005261   \n",
       "8462   0.001752  0.001246  0.000008  0.000804  0.003470  0.000881  0.000000   \n",
       "11391  0.008153  0.004786  0.000009  0.000120  0.001266  0.000295  0.000000   \n",
       "23629  0.000000  0.007338  0.000012  0.000073  0.000000  0.000178  0.000000   \n",
       "23698  0.000269  0.002484  0.000010  0.000478  0.001017  0.000689  0.000000   \n",
       "\n",
       "              L         I         H         E         J    N    M    K    P  \\\n",
       "6516   0.000000  0.000000  0.000000  0.000000  0.000000  0.0  0.0  0.0  0.0   \n",
       "8462   0.023479  0.009561  0.005729  0.000000  0.000000  0.0  0.0  0.0  0.0   \n",
       "11391  0.000000  0.000000  0.000000  0.000000  0.000000  0.0  0.0  0.0  0.0   \n",
       "23629  0.000000  0.000000  0.000000  0.024948  0.000000  0.0  0.0  0.0  0.0   \n",
       "23698  0.000000  0.000000  0.000000  0.024451  0.001453  0.0  0.0  0.0  0.0   \n",
       "\n",
       "         R    Q    S    T  \n",
       "6516   0.0  0.0  0.0  0.0  \n",
       "8462   0.0  0.0  0.0  0.0  \n",
       "11391  0.0  0.0  0.0  0.0  \n",
       "23629  0.0  0.0  0.0  0.0  \n",
       "23698  0.0  0.0  0.0  0.0  "
      ]
     },
     "execution_count": 17,
     "metadata": {},
     "output_type": "execute_result"
    }
   ],
   "source": [
    "need_feature = dict(zip(list(all_seq_num.keys()),[0]*len(all_seq_num)))\n",
    "all_feature_values = []\n",
    "for one_stu,one_TF_IDF in tqdm(stu_TF_IDF.items()):\n",
    "    one_need_feature = need_feature.copy()\n",
    "    if USE_TF_IDF:\n",
    "        one_need_feature.update(one_TF_IDF)\n",
    "    else:\n",
    "        one_need_feature.update(all_stu_seq[one_stu])\n",
    "    all_feature_values.append(one_need_feature)\n",
    "stu_id_index = list(stu_TF_IDF.keys())\n",
    "my_data = pd.DataFrame(all_feature_values,index=stu_id_index)\n",
    "my_data.head()"
   ]
  },
  {
   "cell_type": "markdown",
   "metadata": {},
   "source": [
    "## Load student course selection information"
   ]
  },
  {
   "cell_type": "code",
   "execution_count": 18,
   "metadata": {
    "ExecuteTime": {
     "end_time": "2023-06-20T03:21:45.889610Z",
     "start_time": "2023-06-20T03:21:45.886333Z"
    }
   },
   "outputs": [],
   "source": [
    "if USE_MODULE_INFO:\n",
    "    my_data = pd.concat([my_data,studentInfo_one_hot.loc[stu_id_index]],join='inner',axis=1)\n",
    "    my_data.head()"
   ]
  },
  {
   "cell_type": "markdown",
   "metadata": {},
   "source": [
    "# Learner clustering"
   ]
  },
  {
   "cell_type": "markdown",
   "metadata": {},
   "source": [
    "## Finding the appropriate number of clusters"
   ]
  },
  {
   "cell_type": "code",
   "execution_count": 19,
   "metadata": {
    "ExecuteTime": {
     "end_time": "2023-06-20T03:23:42.931056Z",
     "start_time": "2023-06-20T03:21:45.890843Z"
    }
   },
   "outputs": [
    {
     "name": "stderr",
     "output_type": "stream",
     "text": [
      "100%|██████████| 28/28 [01:56<00:00,  4.16s/it]\n"
     ]
    },
    {
     "data": {
      "text/html": [
       "<div>\n",
       "<style scoped>\n",
       "    .dataframe tbody tr th:only-of-type {\n",
       "        vertical-align: middle;\n",
       "    }\n",
       "\n",
       "    .dataframe tbody tr th {\n",
       "        vertical-align: top;\n",
       "    }\n",
       "\n",
       "    .dataframe thead th {\n",
       "        text-align: right;\n",
       "    }\n",
       "</style>\n",
       "<table border=\"1\" class=\"dataframe\">\n",
       "  <thead>\n",
       "    <tr style=\"text-align: right;\">\n",
       "      <th></th>\n",
       "      <th>num</th>\n",
       "      <th>SC</th>\n",
       "      <th>CH</th>\n",
       "    </tr>\n",
       "  </thead>\n",
       "  <tbody>\n",
       "    <tr>\n",
       "      <th>0</th>\n",
       "      <td>2</td>\n",
       "      <td>0.416660</td>\n",
       "      <td>6777.003154</td>\n",
       "    </tr>\n",
       "    <tr>\n",
       "      <th>1</th>\n",
       "      <td>3</td>\n",
       "      <td>0.361161</td>\n",
       "      <td>7692.863003</td>\n",
       "    </tr>\n",
       "    <tr>\n",
       "      <th>2</th>\n",
       "      <td>4</td>\n",
       "      <td>0.405669</td>\n",
       "      <td>9091.057259</td>\n",
       "    </tr>\n",
       "    <tr>\n",
       "      <th>3</th>\n",
       "      <td>5</td>\n",
       "      <td>0.358252</td>\n",
       "      <td>8605.301239</td>\n",
       "    </tr>\n",
       "    <tr>\n",
       "      <th>4</th>\n",
       "      <td>6</td>\n",
       "      <td>0.318944</td>\n",
       "      <td>8673.441748</td>\n",
       "    </tr>\n",
       "    <tr>\n",
       "      <th>5</th>\n",
       "      <td>7</td>\n",
       "      <td>0.357255</td>\n",
       "      <td>9123.368949</td>\n",
       "    </tr>\n",
       "    <tr>\n",
       "      <th>6</th>\n",
       "      <td>8</td>\n",
       "      <td>0.361842</td>\n",
       "      <td>9356.938267</td>\n",
       "    </tr>\n",
       "    <tr>\n",
       "      <th>7</th>\n",
       "      <td>9</td>\n",
       "      <td>0.365029</td>\n",
       "      <td>9376.830895</td>\n",
       "    </tr>\n",
       "    <tr>\n",
       "      <th>8</th>\n",
       "      <td>10</td>\n",
       "      <td>0.342059</td>\n",
       "      <td>9410.599543</td>\n",
       "    </tr>\n",
       "    <tr>\n",
       "      <th>9</th>\n",
       "      <td>11</td>\n",
       "      <td>0.349885</td>\n",
       "      <td>9343.431687</td>\n",
       "    </tr>\n",
       "  </tbody>\n",
       "</table>\n",
       "</div>"
      ],
      "text/plain": [
       "   num        SC           CH\n",
       "0    2  0.416660  6777.003154\n",
       "1    3  0.361161  7692.863003\n",
       "2    4  0.405669  9091.057259\n",
       "3    5  0.358252  8605.301239\n",
       "4    6  0.318944  8673.441748\n",
       "5    7  0.357255  9123.368949\n",
       "6    8  0.361842  9356.938267\n",
       "7    9  0.365029  9376.830895\n",
       "8   10  0.342059  9410.599543\n",
       "9   11  0.349885  9343.431687"
      ]
     },
     "metadata": {},
     "output_type": "display_data"
    },
    {
     "data": {
      "image/png": "[encoded data removed]",
      "text/plain": [
       "<Figure size 432x288 with 2 Axes>"
      ]
     },
     "metadata": {
      "needs_background": "light"
     },
     "output_type": "display_data"
    }
   ],
   "source": [
    "cluster_num = list(range(2,30))\n",
    "pca = PCA(n_components=5,random_state=2023)\n",
    "X = pca.fit_transform(my_data.values)\n",
    "all_result = []\n",
    "for one in tqdm(cluster_num):\n",
    "    KM_cluster = KMeans(init='k-means++', n_clusters=one,random_state=2023)\n",
    "    KM_cluster.fit(X)\n",
    "    SC = metrics.silhouette_score(X, KM_cluster.labels_, metric='euclidean')# 越大越好\n",
    "    CH = metrics.calinski_harabasz_score(X, KM_cluster.labels_)# 越大越好\n",
    "    all_result.append({'num':one,'SC':SC,'CH':CH})\n",
    "cluster_result = pd.DataFrame(all_result)\n",
    "display(cluster_result.head(10))\n",
    "fig = plt.figure()\n",
    "ax1 = fig.add_subplot(111)\n",
    "ax1.plot(cluster_num,cluster_result['SC'],marker='o',label='SC')\n",
    "ax1.set_xlabel('cluster number k', fontsize=14)\n",
    "ax1.set_ylabel('SC score', fontsize=14)\n",
    "ax2 = ax1.twinx()\n",
    "ax2.plot(cluster_num,cluster_result['CH'].astype('int'), color='r',marker='^',label='CH')\n",
    "ax2.set_ylabel('CH score', fontsize=14)\n",
    "lines1, labels1 = ax1.get_legend_handles_labels()\n",
    "lines2, labels2 = ax2.get_legend_handles_labels()\n",
    "ax2.legend(lines1 + lines2, labels1 + labels2, loc=0)\n",
    "fig.savefig('log/cluster',bbox_inches = 'tight',pad_inches = 0,dpi =350)"
   ]
  },
  {
   "cell_type": "markdown",
   "metadata": {},
   "source": [
    "## Cluster learners"
   ]
  },
  {
   "cell_type": "code",
   "execution_count": 20,
   "metadata": {
    "ExecuteTime": {
     "end_time": "2023-06-20T03:24:32.631039Z",
     "start_time": "2023-06-20T03:23:42.932810Z"
    }
   },
   "outputs": [
    {
     "data": {
      "image/png": "[encoded data removed]",
      "text/plain": [
       "<Figure size 432x432 with 1 Axes>"
      ]
     },
     "metadata": {
      "needs_background": "light"
     },
     "output_type": "display_data"
    }
   ],
   "source": [
    "from sklearn.decomposition import PCA\n",
    "from sklearn.preprocessing import MinMaxScaler\n",
    "from sklearn import manifold\n",
    "if USE_CLUSTER:\n",
    "    tsne = manifold.TSNE(n_components=2,learning_rate='auto', init='pca', random_state=42).fit_transform(my_data)\n",
    "    KM_cluster = KMeans(init='k-means++', n_clusters=K,random_state=2023)\n",
    "    KM_cluster.fit(tsne)\n",
    "    all_labels = list(KM_cluster.labels_)\n",
    "    stu_2_cluster = dict(zip(stu_id_index,all_labels))\n",
    "    plt.figure(figsize=(6,6))\n",
    "    plt.scatter(tsne[:,0],tsne[:,1],c=all_labels,s=1,)\n",
    "    plt.xlabel('comp-1',fontsize=14)\n",
    "    plt.ylabel('comp-2',fontsize=14)\n",
    "    plt.savefig('log/tsne',bbox_inches = 'tight',pad_inches = 0,dpi =350)"
   ]
  },
  {
   "cell_type": "markdown",
   "metadata": {
    "ExecuteTime": {
     "end_time": "2023-06-07T19:56:06.336988Z",
     "start_time": "2023-06-07T19:56:06.332669Z"
    }
   },
   "source": [
    "# Recommendation of learning resources"
   ]
  },
  {
   "cell_type": "markdown",
   "metadata": {},
   "source": [
    "## Calculate learner similarity"
   ]
  },
  {
   "cell_type": "code",
   "execution_count": 21,
   "metadata": {
    "ExecuteTime": {
     "end_time": "2023-06-20T03:24:37.915055Z",
     "start_time": "2023-06-20T03:24:32.634271Z"
    }
   },
   "outputs": [
    {
     "name": "stderr",
     "output_type": "stream",
     "text": [
      "100%|██████████| 4/4 [00:05<00:00,  1.31s/it]\n"
     ]
    },
    {
     "data": {
      "text/html": [
       "<div>\n",
       "<style scoped>\n",
       "    .dataframe tbody tr th:only-of-type {\n",
       "        vertical-align: middle;\n",
       "    }\n",
       "\n",
       "    .dataframe tbody tr th {\n",
       "        vertical-align: top;\n",
       "    }\n",
       "\n",
       "    .dataframe thead th {\n",
       "        text-align: right;\n",
       "    }\n",
       "</style>\n",
       "<table border=\"1\" class=\"dataframe\">\n",
       "  <thead>\n",
       "    <tr style=\"text-align: right;\">\n",
       "      <th></th>\n",
       "      <th>8462</th>\n",
       "      <th>24213</th>\n",
       "      <th>25150</th>\n",
       "      <th>27935</th>\n",
       "      <th>29639</th>\n",
       "      <th>29820</th>\n",
       "      <th>33600</th>\n",
       "      <th>33681</th>\n",
       "      <th>33796</th>\n",
       "      <th>33930</th>\n",
       "      <th>...</th>\n",
       "      <th>2689536</th>\n",
       "      <th>2689863</th>\n",
       "      <th>2691780</th>\n",
       "      <th>2692186</th>\n",
       "      <th>2692577</th>\n",
       "      <th>2693243</th>\n",
       "      <th>2694680</th>\n",
       "      <th>2694886</th>\n",
       "      <th>2694933</th>\n",
       "      <th>2695608</th>\n",
       "    </tr>\n",
       "  </thead>\n",
       "  <tbody>\n",
       "    <tr>\n",
       "      <th>8462</th>\n",
       "      <td>1.000000</td>\n",
       "      <td>0.831754</td>\n",
       "      <td>0.126960</td>\n",
       "      <td>0.718416</td>\n",
       "      <td>0.056145</td>\n",
       "      <td>0.063136</td>\n",
       "      <td>-0.088438</td>\n",
       "      <td>0.943153</td>\n",
       "      <td>0.631156</td>\n",
       "      <td>0.859828</td>\n",
       "      <td>...</td>\n",
       "      <td>0.481460</td>\n",
       "      <td>0.870611</td>\n",
       "      <td>0.894602</td>\n",
       "      <td>0.857942</td>\n",
       "      <td>0.849322</td>\n",
       "      <td>0.875672</td>\n",
       "      <td>-0.103507</td>\n",
       "      <td>0.902662</td>\n",
       "      <td>0.735449</td>\n",
       "      <td>0.970067</td>\n",
       "    </tr>\n",
       "    <tr>\n",
       "      <th>24213</th>\n",
       "      <td>0.831754</td>\n",
       "      <td>1.000000</td>\n",
       "      <td>0.489475</td>\n",
       "      <td>0.828059</td>\n",
       "      <td>0.420529</td>\n",
       "      <td>0.422894</td>\n",
       "      <td>-0.009325</td>\n",
       "      <td>0.677548</td>\n",
       "      <td>0.453135</td>\n",
       "      <td>0.876060</td>\n",
       "      <td>...</td>\n",
       "      <td>0.405828</td>\n",
       "      <td>0.802102</td>\n",
       "      <td>0.549548</td>\n",
       "      <td>0.814788</td>\n",
       "      <td>0.852140</td>\n",
       "      <td>0.631121</td>\n",
       "      <td>-0.134716</td>\n",
       "      <td>0.904565</td>\n",
       "      <td>0.497587</td>\n",
       "      <td>0.821211</td>\n",
       "    </tr>\n",
       "    <tr>\n",
       "      <th>25150</th>\n",
       "      <td>0.126960</td>\n",
       "      <td>0.489475</td>\n",
       "      <td>1.000000</td>\n",
       "      <td>0.708821</td>\n",
       "      <td>0.696266</td>\n",
       "      <td>0.826669</td>\n",
       "      <td>0.211835</td>\n",
       "      <td>0.112556</td>\n",
       "      <td>0.017232</td>\n",
       "      <td>0.555042</td>\n",
       "      <td>...</td>\n",
       "      <td>0.259696</td>\n",
       "      <td>-0.105969</td>\n",
       "      <td>-0.081577</td>\n",
       "      <td>0.453261</td>\n",
       "      <td>0.584925</td>\n",
       "      <td>0.114818</td>\n",
       "      <td>-0.080465</td>\n",
       "      <td>0.453333</td>\n",
       "      <td>0.062593</td>\n",
       "      <td>0.103874</td>\n",
       "    </tr>\n",
       "    <tr>\n",
       "      <th>27935</th>\n",
       "      <td>0.718416</td>\n",
       "      <td>0.828059</td>\n",
       "      <td>0.708821</td>\n",
       "      <td>1.000000</td>\n",
       "      <td>0.489475</td>\n",
       "      <td>0.569235</td>\n",
       "      <td>0.087985</td>\n",
       "      <td>0.718345</td>\n",
       "      <td>0.546903</td>\n",
       "      <td>0.934698</td>\n",
       "      <td>...</td>\n",
       "      <td>0.523492</td>\n",
       "      <td>0.487113</td>\n",
       "      <td>0.566845</td>\n",
       "      <td>0.945784</td>\n",
       "      <td>0.915669</td>\n",
       "      <td>0.737533</td>\n",
       "      <td>-0.129714</td>\n",
       "      <td>0.899722</td>\n",
       "      <td>0.551348</td>\n",
       "      <td>0.699334</td>\n",
       "    </tr>\n",
       "    <tr>\n",
       "      <th>29639</th>\n",
       "      <td>0.056145</td>\n",
       "      <td>0.420529</td>\n",
       "      <td>0.696266</td>\n",
       "      <td>0.489475</td>\n",
       "      <td>1.000000</td>\n",
       "      <td>0.970675</td>\n",
       "      <td>0.246357</td>\n",
       "      <td>0.002527</td>\n",
       "      <td>0.079315</td>\n",
       "      <td>0.359759</td>\n",
       "      <td>...</td>\n",
       "      <td>0.084628</td>\n",
       "      <td>0.076688</td>\n",
       "      <td>-0.123006</td>\n",
       "      <td>0.330537</td>\n",
       "      <td>0.319328</td>\n",
       "      <td>0.046635</td>\n",
       "      <td>-0.098618</td>\n",
       "      <td>0.324963</td>\n",
       "      <td>-0.049321</td>\n",
       "      <td>0.079032</td>\n",
       "    </tr>\n",
       "  </tbody>\n",
       "</table>\n",
       "<p>5 rows × 5378 columns</p>\n",
       "</div>"
      ],
      "text/plain": [
       "        8462      24213     25150     27935     29639     29820     33600    \\\n",
       "8462   1.000000  0.831754  0.126960  0.718416  0.056145  0.063136 -0.088438   \n",
       "24213  0.831754  1.000000  0.489475  0.828059  0.420529  0.422894 -0.009325   \n",
       "25150  0.126960  0.489475  1.000000  0.708821  0.696266  0.826669  0.211835   \n",
       "27935  0.718416  0.828059  0.708821  1.000000  0.489475  0.569235  0.087985   \n",
       "29639  0.056145  0.420529  0.696266  0.489475  1.000000  0.970675  0.246357   \n",
       "\n",
       "        33681     33796     33930    ...   2689536   2689863   2691780  \\\n",
       "8462   0.943153  0.631156  0.859828  ...  0.481460  0.870611  0.894602   \n",
       "24213  0.677548  0.453135  0.876060  ...  0.405828  0.802102  0.549548   \n",
       "25150  0.112556  0.017232  0.555042  ...  0.259696 -0.105969 -0.081577   \n",
       "27935  0.718345  0.546903  0.934698  ...  0.523492  0.487113  0.566845   \n",
       "29639  0.002527  0.079315  0.359759  ...  0.084628  0.076688 -0.123006   \n",
       "\n",
       "        2692186   2692577   2693243   2694680   2694886   2694933   2695608  \n",
       "8462   0.857942  0.849322  0.875672 -0.103507  0.902662  0.735449  0.970067  \n",
       "24213  0.814788  0.852140  0.631121 -0.134716  0.904565  0.497587  0.821211  \n",
       "25150  0.453261  0.584925  0.114818 -0.080465  0.453333  0.062593  0.103874  \n",
       "27935  0.945784  0.915669  0.737533 -0.129714  0.899722  0.551348  0.699334  \n",
       "29639  0.330537  0.319328  0.046635 -0.098618  0.324963 -0.049321  0.079032  \n",
       "\n",
       "[5 rows x 5378 columns]"
      ]
     },
     "metadata": {},
     "output_type": "display_data"
    },
    {
     "name": "stdout",
     "output_type": "stream",
     "text": [
      "run time： 5.273155450820923\n"
     ]
    }
   ],
   "source": [
    "import time\n",
    "start_time = time.time()\n",
    "all_stu_pearson = {}\n",
    "if USE_CLUSTER:\n",
    "    cluster_data = my_data.copy()\n",
    "    cluster_data['cluster'] = all_labels\n",
    "    nee_col = list(cluster_data.columns[:-1])\n",
    "    for one_cluster in tqdm(range(K)):\n",
    "        one_clus_data = cluster_data[cluster_data['cluster']==one_cluster][nee_col]\n",
    "        all_stu_pearson[one_cluster] = one_clus_data.T.corr(method='pearson')\n",
    "    display(all_stu_pearson[0].head())\n",
    "else:\n",
    "    all_stu_pearson =  my_data.T.corr(method='pearson')\n",
    "    display(all_stu_pearson.head())\n",
    "end_time = time.time()\n",
    "run_time = end_time - start_time\n",
    "print('run time：',run_time)"
   ]
  },
  {
   "cell_type": "markdown",
   "metadata": {},
   "source": [
    "## Calculate learners' interest in learning resources"
   ]
  },
  {
   "cell_type": "code",
   "execution_count": 22,
   "metadata": {
    "ExecuteTime": {
     "end_time": "2023-06-20T03:25:21.189139Z",
     "start_time": "2023-06-20T03:24:37.917685Z"
    }
   },
   "outputs": [
    {
     "name": "stderr",
     "output_type": "stream",
     "text": [
      "100%|██████████| 19294/19294 [00:43<00:00, 446.00it/s]\n"
     ]
    }
   ],
   "source": [
    "all_stu_sim_resource = {}\n",
    "for one_stu in tqdm(stu_id_index):\n",
    "    if USE_CLUSTER:\n",
    "        one_cluster = stu_2_cluster[one_stu]\n",
    "        k_person = dict(all_stu_pearson[one_cluster].loc[one_stu].sort_values(ascending=False)[:M+1])\n",
    "    else:\n",
    "        k_person = dict(all_stu_pearson.loc[one_stu].sort_values(ascending=False)[:M+1])\n",
    "    k_person[one_stu] = 10\n",
    "    del k_person[one_stu]\n",
    "    one_stu_resource = {}\n",
    "    for sim_stu,sim in k_person.items():\n",
    "        one_sim_stu_resource = list(stu_resource[sim_stu].keys())\n",
    "        for one_resource in one_sim_stu_resource:\n",
    "            if one_resource not in one_stu_resource:\n",
    "                one_stu_resource[one_resource] = 0\n",
    "            one_stu_resource[one_resource] += sim\n",
    "    all_stu_sim_resource[one_stu] = sorted(one_stu_resource.items(), key= lambda k:k[1], reverse=True)"
   ]
  },
  {
   "cell_type": "markdown",
   "metadata": {},
   "source": [
    "## Top N learning resource recommendations"
   ]
  },
  {
   "cell_type": "code",
   "execution_count": 23,
   "metadata": {
    "ExecuteTime": {
     "end_time": "2023-06-20T03:25:31.326190Z",
     "start_time": "2023-06-20T03:25:21.192950Z"
    }
   },
   "outputs": [
    {
     "name": "stderr",
     "output_type": "stream",
     "text": [
      "100%|██████████| 10/10 [00:10<00:00,  1.01s/it]\n"
     ]
    },
    {
     "data": {
      "text/html": [
       "<div>\n",
       "<style scoped>\n",
       "    .dataframe tbody tr th:only-of-type {\n",
       "        vertical-align: middle;\n",
       "    }\n",
       "\n",
       "    .dataframe tbody tr th {\n",
       "        vertical-align: top;\n",
       "    }\n",
       "\n",
       "    .dataframe thead th {\n",
       "        text-align: right;\n",
       "    }\n",
       "</style>\n",
       "<table border=\"1\" class=\"dataframe\">\n",
       "  <thead>\n",
       "    <tr style=\"text-align: right;\">\n",
       "      <th></th>\n",
       "      <th>Top-N</th>\n",
       "      <th>Precision</th>\n",
       "      <th>Recall</th>\n",
       "      <th>F1</th>\n",
       "    </tr>\n",
       "  </thead>\n",
       "  <tbody>\n",
       "    <tr>\n",
       "      <th>5</th>\n",
       "      <td>5</td>\n",
       "      <td>0.644076</td>\n",
       "      <td>0.054274</td>\n",
       "      <td>0.094322</td>\n",
       "    </tr>\n",
       "    <tr>\n",
       "      <th>15</th>\n",
       "      <td>15</td>\n",
       "      <td>0.623420</td>\n",
       "      <td>0.149810</td>\n",
       "      <td>0.219929</td>\n",
       "    </tr>\n",
       "    <tr>\n",
       "      <th>25</th>\n",
       "      <td>25</td>\n",
       "      <td>0.600862</td>\n",
       "      <td>0.232056</td>\n",
       "      <td>0.300741</td>\n",
       "    </tr>\n",
       "    <tr>\n",
       "      <th>35</th>\n",
       "      <td>35</td>\n",
       "      <td>0.579369</td>\n",
       "      <td>0.304183</td>\n",
       "      <td>0.356188</td>\n",
       "    </tr>\n",
       "    <tr>\n",
       "      <th>45</th>\n",
       "      <td>45</td>\n",
       "      <td>0.557901</td>\n",
       "      <td>0.367481</td>\n",
       "      <td>0.394581</td>\n",
       "    </tr>\n",
       "    <tr>\n",
       "      <th>55</th>\n",
       "      <td>55</td>\n",
       "      <td>0.536460</td>\n",
       "      <td>0.422366</td>\n",
       "      <td>0.420640</td>\n",
       "    </tr>\n",
       "    <tr>\n",
       "      <th>65</th>\n",
       "      <td>65</td>\n",
       "      <td>0.515805</td>\n",
       "      <td>0.470779</td>\n",
       "      <td>0.438208</td>\n",
       "    </tr>\n",
       "    <tr>\n",
       "      <th>75</th>\n",
       "      <td>75</td>\n",
       "      <td>0.496537</td>\n",
       "      <td>0.514437</td>\n",
       "      <td>0.450214</td>\n",
       "    </tr>\n",
       "    <tr>\n",
       "      <th>85</th>\n",
       "      <td>85</td>\n",
       "      <td>0.478618</td>\n",
       "      <td>0.554028</td>\n",
       "      <td>0.458153</td>\n",
       "    </tr>\n",
       "    <tr>\n",
       "      <th>95</th>\n",
       "      <td>95</td>\n",
       "      <td>0.461224</td>\n",
       "      <td>0.589182</td>\n",
       "      <td>0.462273</td>\n",
       "    </tr>\n",
       "  </tbody>\n",
       "</table>\n",
       "</div>"
      ],
      "text/plain": [
       "    Top-N  Precision    Recall        F1\n",
       "5       5   0.644076  0.054274  0.094322\n",
       "15     15   0.623420  0.149810  0.219929\n",
       "25     25   0.600862  0.232056  0.300741\n",
       "35     35   0.579369  0.304183  0.356188\n",
       "45     45   0.557901  0.367481  0.394581\n",
       "55     55   0.536460  0.422366  0.420640\n",
       "65     65   0.515805  0.470779  0.438208\n",
       "75     75   0.496537  0.514437  0.450214\n",
       "85     85   0.478618  0.554028  0.458153\n",
       "95     95   0.461224  0.589182  0.462273"
      ]
     },
     "execution_count": 23,
     "metadata": {},
     "output_type": "execute_result"
    }
   ],
   "source": [
    "all_re = []\n",
    "for top_n in tqdm(N_LIST):\n",
    "    all_stu_rec_video = {}\n",
    "    for one_stu in stu_id_index:\n",
    "        all_stu_rec_video[one_stu] = all_stu_sim_resource[one_stu][:top_n]\n",
    "    all_recall = []\n",
    "    all_pre = []\n",
    "    all_f1 = []\n",
    "    for one_stu in stu_id_index:\n",
    "        one_train_video = list(stu_resource[one_stu].keys())\n",
    "        one_hit = 0\n",
    "        for one in all_stu_rec_video[one_stu]:\n",
    "            if one[0] in one_train_video:\n",
    "                one_hit += 1\n",
    "        one_recall = one_hit/len(one_train_video)\n",
    "        all_recall.append(one_recall)\n",
    "        one_pre = one_hit/len(all_stu_rec_video[one_stu])\n",
    "        all_pre.append(one_pre)\n",
    "        if (one_recall+one_pre)==0:\n",
    "            one_f1 = 0\n",
    "        else:\n",
    "            one_f1 = (2*one_recall*one_pre)/(one_recall+one_pre)\n",
    "        all_f1.append(one_f1)\n",
    "    all_recall_1 = np.mean(all_recall)\n",
    "    all_pre_1 = np.mean(all_pre)\n",
    "    all_f1_1 = np.mean(all_f1)\n",
    "    one_re = {'Top-N':top_n,'Precision':all_pre_1,'Recall':all_recall_1,'F1':all_f1_1,}\n",
    "    all_re.append(one_re)\n",
    "all_re_set = pd.DataFrame(all_re)\n",
    "all_re_set.index = list(all_re_set['Top-N'])\n",
    "# all_re_set.to_csv(f'log/oulad/K.{K}-LBP.{LBP_LEN}-TF.{USE_TF_IDF}-MODULE.{USE_MODULE_INFO}-CLUSTER.{USE_CLUSTER}.csv',index=False)\n",
    "all_re_set.head(20)"
   ]
  },
  {
   "cell_type": "markdown",
   "metadata": {},
   "source": [
    "## Visualization of results"
   ]
  },
  {
   "cell_type": "code",
   "execution_count": 24,
   "metadata": {
    "ExecuteTime": {
     "end_time": "2023-06-20T03:25:31.450183Z",
     "start_time": "2023-06-20T03:25:31.327615Z"
    }
   },
   "outputs": [
    {
     "data": {
      "text/plain": [
       "Text(0, 0.5, 'Value')"
      ]
     },
     "execution_count": 24,
     "metadata": {},
     "output_type": "execute_result"
    },
    {
     "data": {
      "image/png": "[encoded data removed]",
      "text/plain": [
       "<Figure size 432x288 with 1 Axes>"
      ]
     },
     "metadata": {
      "needs_background": "light"
     },
     "output_type": "display_data"
    }
   ],
   "source": [
    "all_re_set_plt = all_re_set[['Precision','Recall','F1']]\n",
    "one_plot = all_re_set_plt.plot()\n",
    "one_plot.set_xlabel('Top-N')\n",
    "one_plot.set_ylabel('Value')"
   ]
  }
 ],
 "metadata": {
  "kernelspec": {
   "display_name": "xhx_kt_py38",
   "language": "python",
   "name": "xhx_kt_py38"
  },
  "language_info": {
   "codemirror_mode": {
    "name": "ipython",
    "version": 3
   },
   "file_extension": ".py",
   "mimetype": "text/x-python",
   "name": "python",
   "nbconvert_exporter": "python",
   "pygments_lexer": "ipython3",
   "version": "3.8.13"
  },
  "toc": {
   "base_numbering": 1,
   "nav_menu": {},
   "number_sections": true,
   "sideBar": true,
   "skip_h1_title": false,
   "title_cell": "Table of Contents",
   "title_sidebar": "Contents",
   "toc_cell": false,
   "toc_position": {},
   "toc_section_display": true,
   "toc_window_display": true
  },
  "varInspector": {
   "cols": {
    "lenName": 16,
    "lenType": 16,
    "lenVar": 40
   },
   "kernels_config": {
    "python": {
     "delete_cmd_postfix": "",
     "delete_cmd_prefix": "del ",
     "library": "var_list.py",
     "varRefreshCmd": "print(var_dic_list())"
    },
    "r": {
     "delete_cmd_postfix": ") ",
     "delete_cmd_prefix": "rm(",
     "library": "var_list.r",
     "varRefreshCmd": "cat(var_dic_list()) "
    }
   },
   "position": {
    "height": "243.85px",
    "left": "1071.6px",
    "right": "20px",
    "top": "120px",
    "width": "350px"
   },
   "types_to_exclude": [
    "module",
    "function",
    "builtin_function_or_method",
    "instance",
    "_Feature"
   ],
   "window_display": false
  }
 },
 "nbformat": 4,
 "nbformat_minor": 2
}
